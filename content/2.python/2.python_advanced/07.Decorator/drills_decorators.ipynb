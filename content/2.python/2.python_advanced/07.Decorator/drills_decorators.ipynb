{
 "cells": [
  {
   "cell_type": "markdown",
   "metadata": {},
   "source": [
    "# Drill - Decorators\n",
    "\n",
    "### Exercise 1\n",
    "Create a decorator that limits the execution of a function:\n",
    "\n",
    "When the function is executed too many times, an exception is thrown. The decorator must take one parameter, which is the number of times it is executed."
   ]
  },
  {
   "cell_type": "code",
   "execution_count": 1,
   "metadata": {},
   "outputs": [
    {
     "name": "stdout",
     "output_type": "stream",
     "text": [
      "Function run executed\n",
      "Function run executed\n",
      "Function run executed\n",
      "Function run executed\n",
      "Function run executed\n"
     ]
    },
    {
     "ename": "Exception",
     "evalue": "Function execution limit reached",
     "output_type": "error",
     "traceback": [
      "\u001b[1;31m---------------------------------------------------------------------------\u001b[0m",
      "\u001b[1;31mException\u001b[0m                                 Traceback (most recent call last)",
      "\u001b[1;32mc:\\Users\\brame\\OneDrive\\Documents\\GitHub\\LIE-Thomas-2\\content\\2.python\\2.python_advanced\\07.Decorator\\drills_decorators.ipynb Cell 2\u001b[0m in \u001b[0;36m<cell line: 21>\u001b[1;34m()\u001b[0m\n\u001b[0;32m     <a href='vscode-notebook-cell:/c%3A/Users/brame/OneDrive/Documents/GitHub/LIE-Thomas-2/content/2.python/2.python_advanced/07.Decorator/drills_decorators.ipynb#W1sZmlsZQ%3D%3D?line=18'>19</a>\u001b[0m     \u001b[39mprint\u001b[39m(\u001b[39m\"\u001b[39m\u001b[39mFunction run executed\u001b[39m\u001b[39m\"\u001b[39m)\n\u001b[0;32m     <a href='vscode-notebook-cell:/c%3A/Users/brame/OneDrive/Documents/GitHub/LIE-Thomas-2/content/2.python/2.python_advanced/07.Decorator/drills_decorators.ipynb#W1sZmlsZQ%3D%3D?line=20'>21</a>\u001b[0m \u001b[39mfor\u001b[39;00m i \u001b[39min\u001b[39;00m \u001b[39mrange\u001b[39m(\u001b[39m10\u001b[39m):\n\u001b[1;32m---> <a href='vscode-notebook-cell:/c%3A/Users/brame/OneDrive/Documents/GitHub/LIE-Thomas-2/content/2.python/2.python_advanced/07.Decorator/drills_decorators.ipynb#W1sZmlsZQ%3D%3D?line=21'>22</a>\u001b[0m     run()\n",
      "\u001b[1;32mc:\\Users\\brame\\OneDrive\\Documents\\GitHub\\LIE-Thomas-2\\content\\2.python\\2.python_advanced\\07.Decorator\\drills_decorators.ipynb Cell 2\u001b[0m in \u001b[0;36mlimit_execution.<locals>.decorator.<locals>.wrapper\u001b[1;34m(*args, **kwargs)\u001b[0m\n\u001b[0;32m      <a href='vscode-notebook-cell:/c%3A/Users/brame/OneDrive/Documents/GitHub/LIE-Thomas-2/content/2.python/2.python_advanced/07.Decorator/drills_decorators.ipynb#W1sZmlsZQ%3D%3D?line=6'>7</a>\u001b[0m \u001b[39m@wraps\u001b[39m(func)\n\u001b[0;32m      <a href='vscode-notebook-cell:/c%3A/Users/brame/OneDrive/Documents/GitHub/LIE-Thomas-2/content/2.python/2.python_advanced/07.Decorator/drills_decorators.ipynb#W1sZmlsZQ%3D%3D?line=7'>8</a>\u001b[0m \u001b[39mdef\u001b[39;00m \u001b[39mwrapper\u001b[39m(\u001b[39m*\u001b[39margs, \u001b[39m*\u001b[39m\u001b[39m*\u001b[39mkwargs):\n\u001b[0;32m      <a href='vscode-notebook-cell:/c%3A/Users/brame/OneDrive/Documents/GitHub/LIE-Thomas-2/content/2.python/2.python_advanced/07.Decorator/drills_decorators.ipynb#W1sZmlsZQ%3D%3D?line=8'>9</a>\u001b[0m     \u001b[39mif\u001b[39;00m func\u001b[39m.\u001b[39mexecutions \u001b[39m>\u001b[39m\u001b[39m=\u001b[39m max_executions:\n\u001b[1;32m---> <a href='vscode-notebook-cell:/c%3A/Users/brame/OneDrive/Documents/GitHub/LIE-Thomas-2/content/2.python/2.python_advanced/07.Decorator/drills_decorators.ipynb#W1sZmlsZQ%3D%3D?line=9'>10</a>\u001b[0m         \u001b[39mraise\u001b[39;00m \u001b[39mException\u001b[39;00m(\u001b[39m\"\u001b[39m\u001b[39mFunction execution limit reached\u001b[39m\u001b[39m\"\u001b[39m)\n\u001b[0;32m     <a href='vscode-notebook-cell:/c%3A/Users/brame/OneDrive/Documents/GitHub/LIE-Thomas-2/content/2.python/2.python_advanced/07.Decorator/drills_decorators.ipynb#W1sZmlsZQ%3D%3D?line=10'>11</a>\u001b[0m     func\u001b[39m.\u001b[39mexecutions \u001b[39m+\u001b[39m\u001b[39m=\u001b[39m \u001b[39m1\u001b[39m\n\u001b[0;32m     <a href='vscode-notebook-cell:/c%3A/Users/brame/OneDrive/Documents/GitHub/LIE-Thomas-2/content/2.python/2.python_advanced/07.Decorator/drills_decorators.ipynb#W1sZmlsZQ%3D%3D?line=11'>12</a>\u001b[0m     \u001b[39mreturn\u001b[39;00m func(\u001b[39m*\u001b[39margs, \u001b[39m*\u001b[39m\u001b[39m*\u001b[39mkwargs)\n",
      "\u001b[1;31mException\u001b[0m: Function execution limit reached"
     ]
    }
   ],
   "source": [
    "from functools import wraps\n",
    "\n",
    "def limit_execution(max_executions):\n",
    "    def decorator(func):\n",
    "        func.executions = 0\n",
    "\n",
    "        @wraps(func)\n",
    "        def wrapper(*args, **kwargs):\n",
    "            if func.executions >= max_executions:\n",
    "                raise Exception(\"Function execution limit reached\")\n",
    "            func.executions += 1\n",
    "            return func(*args, **kwargs)\n",
    "\n",
    "        return wrapper\n",
    "    return decorator\n",
    "\n",
    "@limit_execution(5)\n",
    "def run():\n",
    "    print(\"Function run executed\")\n",
    "\n",
    "for i in range(10):\n",
    "    run()\n",
    "\n"
   ]
  },
  {
   "cell_type": "markdown",
   "metadata": {},
   "source": [
    "### Exercise 2\n",
    "Create a decorator that controls what a function returns. The decorator must throw an exception if the function returns a string or an int."
   ]
  },
  {
   "cell_type": "code",
   "execution_count": 2,
   "metadata": {},
   "outputs": [],
   "source": [
    "def control_return(func):\n",
    "    def wrapper(*args, **kwargs):\n",
    "        result = func(*args, **kwargs)\n",
    "        if isinstance(result, (int, str)):\n",
    "            raise Exception(\"The function cannot return a string or an int.\")\n",
    "        return result\n",
    "    return wrapper\n",
    "\n",
    "@control_return\n",
    "def my_function():\n",
    "    return \"This is a string\"\n",
    "\n",
    "\n",
    "def my_function():\n",
    "    return \"This is a string\"\n",
    "\n",
    "my_function = control_return(my_function)\n"
   ]
  },
  {
   "cell_type": "markdown",
   "metadata": {},
   "source": [
    "### Exercise 3\n",
    "A decorator that displays the time it took for the function to run (basic)."
   ]
  },
  {
   "cell_type": "code",
   "execution_count": 3,
   "metadata": {},
   "outputs": [],
   "source": [
    "import time\n",
    "\n",
    "def display_time(func):\n",
    "    def wrapper(*args, **kwargs):\n",
    "        start_time = time.perf_counter()\n",
    "        result = func(*args, **kwargs)\n",
    "        end_time = time.perf_counter()\n",
    "        print(f\"The function took {end_time - start_time:.6f} seconds to run.\")\n",
    "        return result\n",
    "    return wrapper\n",
    "\n",
    "@display_time\n",
    "def my_function():\n",
    "  \n",
    "    pass\n",
    "\n",
    "\n",
    "def my_function():\n",
    "    \n",
    "    pass\n",
    "\n",
    "my_function = display_time(my_function)\n"
   ]
  }
 ],
 "metadata": {
  "kernelspec": {
   "display_name": "Python 3.9.12 ('base')",
   "language": "python",
   "name": "python3"
  },
  "language_info": {
   "codemirror_mode": {
    "name": "ipython",
    "version": 3
   },
   "file_extension": ".py",
   "mimetype": "text/x-python",
   "name": "python",
   "nbconvert_exporter": "python",
   "pygments_lexer": "ipython3",
   "version": "3.9.12"
  },
  "vscode": {
   "interpreter": {
    "hash": "7861d0b3c3972525d2c4e83e9861eadfe3d7833f46e7ff1f58fa3fb4d90a3d16"
   }
  }
 },
 "nbformat": 4,
 "nbformat_minor": 2
}
