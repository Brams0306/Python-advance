{
 "cells": [
  {
   "cell_type": "markdown",
   "metadata": {},
   "source": [
    "### API (Application Programming Interface)"
   ]
  },
  {
   "cell_type": "markdown",
   "metadata": {},
   "source": [
    "An Application Programming Interface (API) is a set of tools and methods that allow different applications to interact with each other. While a **user interface** connects a person to a computer or a software, an **API** connects computers or software to each other.\n",
    "\n",
    "In the following example, the user interacts with Uber through an application (graphical user interface) while the Uber application interacts with other applications (Google maps, Banks) through APIs.\n",
    "\n",
    "<img src=\"./assets/api.png\">\n",
    "\n",
    "A lot of companies and organizations provide APIs which allow your Python code to communicate with them (for example by retrieving data dynamically from their server). Those services can be free or paid and often require you to be authenticated before using it.\n",
    "\n",
    "### How to call an API\n",
    "\n",
    "Each API has its own specifications. Basically what we need to know is:\n",
    "\n",
    "- The **root URL**, defining the address of the API\n",
    "- A **method** (the most common are `GET` and `POST` but you can find much more [here](https://restfulapi.net/http-methods/))\n",
    "- An **endpoint**, whose role is comparable to a function in python\n",
    "- **Parameters**, that you can compare to the parameters of a function in python\n",
    "\n",
    "In practice, you can test an API in the browser directly (at least for `GET` methods). A useful tool for testing more complex API calls is [Postman](https://www.postman.com/).\n",
    "\n",
    "In our case, we will of course use Python and our famous `requests` library.\n"
   ]
  },
  {
   "cell_type": "markdown",
   "metadata": {},
   "source": [
    "### Let's practice\n",
    "\n",
    "We will use [newsapi](https://newsapi.org/) for getting the latest articles from the French newspaper [L'Equipe](https://www.lequipe.fr/).\n",
    "\n",
    "In our case the specifications are :\n",
    "\n",
    "- Root url: `https://newsapi.org/v2`\n",
    "- Method: `GET`\n",
    "- Endpoint: `top-headlines`\n",
    "- Parameters (key: value):\n",
    "    - `apiKey`: `73bbb95f8ecb49b499113a46481b4af1` (this credential key has been created for you)\n",
    "    - `sources`: `lequipe`\n",
    "\n",
    "In the browser we translate it like this : `{ROOT_URL}/{ENDPOINT}?{key}={value1}&{key2}={value2}`\n",
    "\n",
    "Can you create this URL in your browser and check what happens ?"
   ]
  },
  {
   "cell_type": "markdown",
   "metadata": {},
   "source": [
    "### And in Python?\n",
    "\n",
    "Let's build our call to the API by using `requests`"
   ]
  },
  {
   "cell_type": "code",
   "execution_count": 5,
   "metadata": {},
   "outputs": [
    {
     "data": {
      "text/plain": [
       "{'status': 'ok',\n",
       " 'totalResults': 10,\n",
       " 'articles': [{'source': {'id': 'lequipe', 'name': \"L'equipe\"},\n",
       "   'author': \"L'EQUIPE\",\n",
       "   'title': \"Luka Karabatic, après la victoire du PSG à Nantes : «\\xa0On s'est battu comme des lions\\xa0»\",\n",
       "   'description': \"Fier de son groupe après la victoire à l'arraché à Nantes ce mercredi soir (32-33), le capitaine et pivot du PSG Luka Karabatic a estimé que les Parisiens se sont «\\xa0battus comme des lions\\xa0».\",\n",
       "   'url': 'https://www.lequipe.fr/Handball/Actualites/L-karabatic-apres-la-victoire-du-psg-a-nantes-on-s-est-battu-comme-des-lions/1371231',\n",
       "   'urlToImage': 'https://medias.lequipe.fr/img-photo-jpg/luka-karabatic-b-papon-l-equipe/1500000001727603/0:0,1998:1332-640-427-75/626c6.jpg',\n",
       "   'publishedAt': '2022-12-21T22:55:27+00:00',\n",
       "   'content': \"Luka Karabatic (capitaine et pivot du Paris SG, après la victoire 33-32 à Nantes) : «\\xa0Ça s'annonçait compliqué (...). C'était un match avec beaucoup d'adversité, avec des absents chez nous et un cont… [+1023 chars]\"},\n",
       "  {'source': {'id': 'lequipe', 'name': \"L'equipe\"},\n",
       "   'author': \"L'EQUIPE\",\n",
       "   'title': \"La NBA prive les New York Knicks d'un choix de draft après la signature de Jalen Brunson\",\n",
       "   'description': \"La NBA a annoncé mercredi qu'elle allait priver New York de son second tour de draft en 2025. La ligue nord-américaine a jugé que les Knicks avaient commencé à négocier avec leur meneur Jalen Brunson avant le début du marché des agents libres, le 30\\xa0juin dern…\",\n",
       "   'url': 'https://www.lequipe.fr/Basket/Actualites/La-nba-prive-les-new-york-knicks-d-un-choix-de-draft-apres-la-signature-de-jalen-brunson/1371229',\n",
       "   'urlToImage': 'https://medias.lequipe.fr/img-photo-jpg/jalen-brunson-etait-l-un-des-principaux-agents-libres-en-juin-dernier-d-schneidler-usa-today-sports-/1500000001727600/0:0,1997:1332-640-427-75/d514c.jpg',\n",
       "   'publishedAt': '2022-12-21T22:51:05+00:00',\n",
       "   'content': \"Brunson s'était engagé dès le 1er\\xa0janvier pour quatre ans et 104\\xa0millions de dollars mais la NBA soupçonnait les deux parties d'avoir négocié en amont. Dans son communiqué, la ligue précise que New Y… [+146 chars]\"},\n",
       "  {'source': {'id': 'lequipe', 'name': \"L'equipe\"},\n",
       "   'author': \"L'EQUIPE\",\n",
       "   'title': 'Sonia Bompastor après OL-Juventus\\xa0: «\\xa0Trop de déchet technique\\xa0»',\n",
       "   'description': \"Si elle a savouré la qualification pour les quarts de finale de la Ligue des champions, l'entraîneure de l'OL féminin, Sonia Bompastor, n'a pas aimé le visage offensif de son équipe contre la Juventus Turin, ce mercredi (0-0).\",\n",
       "   'url': 'https://www.lequipe.fr/Football/Actualites/Sonia-bompastor-apres-ol-juventus-trop-de-dechet-technique/1371228',\n",
       "   'urlToImage': 'https://medias.lequipe.fr/img-photo-jpg/sonia-bompastor-attend-plus-sur-le-plan-offensif-a-martin-l-equipe/1500000001727597/0:0,1995:1330-640-427-75/d0c5a.jpg',\n",
       "   'publishedAt': '2022-12-21T22:42:28+00:00',\n",
       "   'content': \"«\\xa0Le soulagement prédomine-t-il après ce un nul contre la Juventus Turin (0-0) synonyme de qualification pour les quarts de finale de Ligue des champions\\xa0?Je suis soulagée et satisfaite, c'était l'ob… [+3057 chars]\"},\n",
       "  {'source': {'id': 'lequipe', 'name': \"L'equipe\"},\n",
       "   'author': \"L'EQUIPE\",\n",
       "   'title': 'Bourg-en-Bresse défait à domicile, Paris Basket vainqueur à Londres',\n",
       "   'description': \"Pour la 9e\\xa0journée d'Eurocoupe, Bourg-en-Bresse s'est incliné à domicile face au Cedevita Olimpija Ljubljana (90-91). Le Paris Basket a largement battu les Lions de Londres (80-93).\",\n",
       "   'url': 'https://www.lequipe.fr/Basket/Actualites/Bourg-en-bresse-defait-a-domicile-paris-basket-vainqueur-a-londres/1371223',\n",
       "   'urlToImage': 'https://medias.lequipe.fr/img-photo-jpg/paris-basket-avec-un-bon-aamir-simms-s-est-impose-a-londres-en-eurocoupe-j-m-hervio-l-equipe/1500000001727590/244:119,1866:1200-640-427-75/c2609.jpg',\n",
       "   'publishedAt': '2022-12-21T22:21:58+00:00',\n",
       "   'content': \"Bourg-en-Bresse, bien parti dans cette saison d'Eurocoupe, a concédé ce mercredi sa troisième défaite sur les cinq derniers matches, face au Cedevita Olimpija Ljubljana (90-91), pourtant dernier du g… [+237 chars]\"},\n",
       "  {'source': {'id': 'lequipe', 'name': \"L'equipe\"},\n",
       "   'author': \"L'EQUIPE\",\n",
       "   'title': 'Manchester United qualifié en quarts de League Cup après sa victoire face à Burnley',\n",
       "   'description': \"Manchester United s'est imposé 2-0 face à Burnley en huitième de finale de League Cup grâce à des buts de Christian Eriksen et Marcus Rashford.\",\n",
       "   'url': 'https://www.lequipe.fr/Football/Actualites/Manchester-united-qualifie-en-quarts-de-league-cup-apres-sa-victoire-face-a-burnley/1371222',\n",
       "   'urlToImage': 'https://medias.lequipe.fr/img-photo-jpg/christian-eriksen-a-ouvert-le-score-pour-manchester-united-ce-mercredi-soir-reuters/1500000001727589/0:0,1998:1332-640-427-75/63819.jpg',\n",
       "   'publishedAt': '2022-12-21T22:19:12+00:00',\n",
       "   'content': \"Grâce à des buts de Christian Eriksen (27e) et de Marcus Rashford, auteur d'un splendide numéro (57e), Manchester United s'est imposé face à Burnley (2-0) sur sa pelouse d'Old Trafford en huitièmes d… [+114 chars]\"},\n",
       "  {'source': {'id': 'lequipe', 'name': \"L'equipe\"},\n",
       "   'author': \"L'EQUIPE\",\n",
       "   'title': 'Accord de principe entre Lionel Messi et le PSG pour une prolongation',\n",
       "   'description': \"Un accord de principe a été trouvé entre Lionel Messi et le PSG pour que l'Argentin reste au moins une saison de plus au sein du club parisien, comme l'ont indiqué ce jeudi «\\xa0Le Parisien\\xa0» et RMC.\",\n",
       "   'url': 'https://www.lequipe.fr/Football/Actualites/Accord-de-principe-entre-lionel-messi-et-le-psg-pour-une-prolongation/1371218',\n",
       "   'urlToImage': 'https://medias.lequipe.fr/img-video-cover/1500000001727598/640/0',\n",
       "   'publishedAt': '2022-12-21T21:47:51+00:00',\n",
       "   'content': \"C'était la tendance forte de ces dernières semaines, elle devrait bientôt devenir réalité. Lionel Messi a donné son accord de principe pour rester au moins un an de plus au Paris-SG, comme l'a révélé… [+2831 chars]\"},\n",
       "  {'source': {'id': 'lequipe', 'name': \"L'equipe\"},\n",
       "   'author': \"L'EQUIPE\",\n",
       "   'title': \"L'état de santé de Pelé s'aggrave d'après l'hôpital de Sao Paulo où il est pris en charge\",\n",
       "   'description': \"L'état de santé de Pelé s'aggrave, a annoncé mercredi l'hôpital de Sao Paulo où il est pris en charge, et requiert «\\xa0des soins plus importants\\xa0» en raison d'une «\\xa0insuffisance rénale et cardiaque\\xa0».\",\n",
       "   'url': 'https://www.lequipe.fr/Football/Actualites/L-etat-de-sante-de-pele-s-aggrave-d-apres-l-hopital-de-sao-paulo-ou-il-est-pris-en-charge/1371216',\n",
       "   'urlToImage': 'https://medias.lequipe.fr/img-photo-jpg/pendant-la-coupe-du-monde-2022-l-equipe-du-bresil-a-affiche-son-soutien-a-pele-franck-faugere-l-equi/1500000001727582/0:0,1996:1331-640-427-75/12e82.jpg',\n",
       "   'publishedAt': '2022-12-21T21:42:28+00:00',\n",
       "   'content': \"Trois semaines après son admission à l'hôpital Albert-Einstein de São Paulo, l'état du Roi Pelé suscite toujours des inquiétudes. Mercredi, les médecins ont publié un communiqué reconnaissant une pro… [+2146 chars]\"},\n",
       "  {'source': {'id': 'lequipe', 'name': \"L'equipe\"},\n",
       "   'author': \"L'EQUIPE\",\n",
       "   'title': 'Lens renverse Reims en amical',\n",
       "   'description': 'En renversant Reims (2-1) mercredi en amical, les Lensois ont terminé invaincus leur campagne de préparation, avant la reprise du Championnat, jeudi prochain à Nice.',\n",
       "   'url': 'https://www.lequipe.fr/Football/Actualites/Lens-renverse-reims-en-amical/1371215',\n",
       "   'urlToImage': 'https://medias.lequipe.fr/img-photo-jpg/alexis-claude-maurice-a-inscrit-le-but-de-la-victoire-pour-lens-p-lahalle-l-equipe/1500000001727579/0:0,1998:1332-640-427-75/8cd9b.jpg',\n",
       "   'publishedAt': '2022-12-21T21:36:00+00:00',\n",
       "   'content': 'Dauphins du PSG en Ligue\\xa01, les Lensois, qui se déplaceront à Nice (9e) jeudi prochain, sont prêts à reprendre le Championnat mis sur pause par la Coupe du monde. Ce mercredi, la formation de Franck … [+2640 chars]'},\n",
       "  {'source': {'id': 'lequipe', 'name': \"L'equipe\"},\n",
       "   'author': \"L'EQUIPE\",\n",
       "   'title': \"Le PSG s'impose à Nantes sur un arrêt d'Andreas Palicka à la dernière seconde\",\n",
       "   'description': \"Battu par Montpellier samedi (30-31), le PSG est sorti vainqueur d'un autre choc haletant mercredi soir à Nantes (33-32). Elohim Prandi a marqué à 20 secondes de la fin avant que le gardien suédois Andreas Palicka bloque un jet de sept mètres de Valero Rivera…\",\n",
       "   'url': 'https://www.lequipe.fr/Handball/Actualites/Le-psg-s-impose-a-nantes-sur-un-arret-d-andreas-palicka-a-la-derniere-seconde/1371212',\n",
       "   'urlToImage': 'https://medias.lequipe.fr/img-photo-jpg/le-gardien-suedois-andreas-palicka-a-sauve-le-psg-avec-un-arret-a-la-derniere-seconde-b-papon-l-equi/1500000001727580/0:0,1996:1330-640-427-75/6bd0d.jpg',\n",
       "   'publishedAt': '2022-12-21T21:13:23+00:00',\n",
       "   'content': \"Ils se sont rués sur Andreas Palicka. Titulaires comme remplaçants, les joueurs du PSG ont entouré leur gardien, auteur d'un arrêt importantissime pour préserver leur succès à Nantes mercredi soir (3… [+2448 chars]\"},\n",
       "  {'source': {'id': 'lequipe', 'name': \"L'equipe\"},\n",
       "   'author': \"L'EQUIPE\",\n",
       "   'title': 'Tony Parker nommé pour entrer au Hall of Fame en 2023',\n",
       "   'description': 'Trois ans et demi après la fin de sa carrière, Tony Parker est pour la première fois éligible au Hall of Fame de la NBA. Le meneur français, quadruple champion avec San Antonio, figure dans la liste de nommés dévoilée mercredi en compagnie notamment de Pau Ga…',\n",
       "   'url': 'https://www.lequipe.fr/Basket/Actualites/Tony-parker-nomme-pour-entrer-au-hall-of-fame-en-2023/1371211',\n",
       "   'urlToImage': 'https://medias.lequipe.fr/img-photo-jpg/tony-parker-pourrait-devenir-le-premier-francais-a-entrer-au-hall-of-fame-de-la-nba-a-martin-l-equip/1500000001727567/211:140,1788:1192-640-427-75/46f72.jpg',\n",
       "   'publishedAt': '2022-12-21T21:01:04+00:00',\n",
       "   'content': \"Quadruple champion NBA ensemble (2003, 2005, 2007 et 2014), le trio magique des San Antonio Spurs sera peut-être reformé au Hall of Fame d'ici la fin de l'année. Après Tim Duncan intronisé en 2020 pu… [+1777 chars]\"}]}"
      ]
     },
     "execution_count": 5,
     "metadata": {},
     "output_type": "execute_result"
    }
   ],
   "source": [
    "import requests\n",
    "\n",
    "root_url = \"https://newsapi.org/v2\"\n",
    "endpoint = \"top-headlines\" \n",
    "params = {\n",
    "    \"apiKey\": \"f17f1088014c4e22a3b2e65e8cec58ea\",\n",
    "    \"sources\": \"lequipe\"\n",
    "}\n",
    "# Let's call the get method of requests on our specifications\n",
    "response = requests.get(f\"{root_url}/{endpoint}\", params=params)\n",
    "jResponse =  response.json()\n",
    "jResponse\n",
    "\n"
   ]
  },
  {
   "cell_type": "markdown",
   "metadata": {},
   "source": [
    "The results is a bit hard to read, isn't ? Why not to parse the json output to get only the titles of the articles in a list ?"
   ]
  },
  {
   "cell_type": "code",
   "execution_count": 6,
   "metadata": {},
   "outputs": [
    {
     "name": "stdout",
     "output_type": "stream",
     "text": [
      "Luka Karabatic, après la victoire du PSG à Nantes : « On s'est battu comme des lions »\n",
      "La NBA prive les New York Knicks d'un choix de draft après la signature de Jalen Brunson\n",
      "Sonia Bompastor après OL-Juventus : « Trop de déchet technique »\n",
      "Bourg-en-Bresse défait à domicile, Paris Basket vainqueur à Londres\n",
      "Manchester United qualifié en quarts de League Cup après sa victoire face à Burnley\n",
      "Accord de principe entre Lionel Messi et le PSG pour une prolongation\n",
      "L'état de santé de Pelé s'aggrave d'après l'hôpital de Sao Paulo où il est pris en charge\n",
      "Lens renverse Reims en amical\n",
      "Le PSG s'impose à Nantes sur un arrêt d'Andreas Palicka à la dernière seconde\n",
      "Tony Parker nommé pour entrer au Hall of Fame en 2023\n"
     ]
    }
   ],
   "source": [
    "     \n",
    "\n",
    "for article in response.json()[\"articles\"]:\n",
    "     title = article[\"title\"]\n",
    "       \n",
    "     print(title)  \n",
    "    "
   ]
  },
  {
   "cell_type": "markdown",
   "metadata": {},
   "source": [
    "### Exercise\n",
    "\n",
    "1. Choose any existing free API (look on Internet)\n",
    "2. Try to make some calls with `requests` by looking to the specifications\n",
    "3. Display the results"
   ]
  },
  {
   "cell_type": "markdown",
   "metadata": {},
   "source": []
  },
  {
   "cell_type": "code",
   "execution_count": 12,
   "metadata": {},
   "outputs": [
    {
     "name": "stdout",
     "output_type": "stream",
     "text": [
      "Temperature: {'cod': 401, 'message': 'Invalid API key. Please see https://openweathermap.org/faq#error401 for more info.'}\n",
      "Humidity: {'cod': 401, 'message': 'Invalid API key. Please see https://openweathermap.org/faq#error401 for more info.'}\n"
     ]
    }
   ],
   "source": [
    "\n",
    "import requests\n",
    "\n",
    "api_key = \"c650bae7efdeaa9d8714df3cfde72785\"\n",
    "\n",
    "\n",
    "response = requests.get(\"http://api.openweathermap.org/data/2.5/weather?q=London&appid=\" + api_key)\n",
    "\n",
    "data = response.json()\n",
    "\n",
    "temperature = data\n",
    "humidity = data\n",
    "\n",
    "print(f\"Temperature: {temperature}\")\n",
    "print(f\"Humidity: {humidity}\")\n",
    "\n",
    "\n"
   ]
  },
  {
   "cell_type": "code",
   "execution_count": 7,
   "metadata": {},
   "outputs": [
    {
     "name": "stdout",
     "output_type": "stream",
     "text": [
      "Luka Karabatic (capitaine et pivot du Paris SG, après la victoire 33-32 à Nantes) : « Ça s'annonçait compliqué (...). C'était un match avec beaucoup d'adversité, avec des absents chez nous et un cont… [+1023 chars]\n",
      "Brunson s'était engagé dès le 1er janvier pour quatre ans et 104 millions de dollars mais la NBA soupçonnait les deux parties d'avoir négocié en amont. Dans son communiqué, la ligue précise que New Y… [+146 chars]\n",
      "« Le soulagement prédomine-t-il après ce un nul contre la Juventus Turin (0-0) synonyme de qualification pour les quarts de finale de Ligue des champions ?Je suis soulagée et satisfaite, c'était l'ob… [+3057 chars]\n",
      "Bourg-en-Bresse, bien parti dans cette saison d'Eurocoupe, a concédé ce mercredi sa troisième défaite sur les cinq derniers matches, face au Cedevita Olimpija Ljubljana (90-91), pourtant dernier du g… [+237 chars]\n",
      "Grâce à des buts de Christian Eriksen (27e) et de Marcus Rashford, auteur d'un splendide numéro (57e), Manchester United s'est imposé face à Burnley (2-0) sur sa pelouse d'Old Trafford en huitièmes d… [+114 chars]\n",
      "C'était la tendance forte de ces dernières semaines, elle devrait bientôt devenir réalité. Lionel Messi a donné son accord de principe pour rester au moins un an de plus au Paris-SG, comme l'a révélé… [+2831 chars]\n",
      "Trois semaines après son admission à l'hôpital Albert-Einstein de São Paulo, l'état du Roi Pelé suscite toujours des inquiétudes. Mercredi, les médecins ont publié un communiqué reconnaissant une pro… [+2146 chars]\n",
      "Dauphins du PSG en Ligue 1, les Lensois, qui se déplaceront à Nice (9e) jeudi prochain, sont prêts à reprendre le Championnat mis sur pause par la Coupe du monde. Ce mercredi, la formation de Franck … [+2640 chars]\n",
      "Ils se sont rués sur Andreas Palicka. Titulaires comme remplaçants, les joueurs du PSG ont entouré leur gardien, auteur d'un arrêt importantissime pour préserver leur succès à Nantes mercredi soir (3… [+2448 chars]\n",
      "Quadruple champion NBA ensemble (2003, 2005, 2007 et 2014), le trio magique des San Antonio Spurs sera peut-être reformé au Hall of Fame d'ici la fin de l'année. Après Tim Duncan intronisé en 2020 pu… [+1777 chars]\n"
     ]
    }
   ],
   "source": [
    "for article in response.json()[\"articles\"]:\n",
    "     content = article[\"content\"]\n",
    "       \n",
    "     print(content) "
   ]
  },
  {
   "cell_type": "markdown",
   "metadata": {},
   "source": [
    "### Exercise\n",
    "\n",
    "1. Choose any existing free API (look on Internet)\n",
    "2. Try to make some calls with `requests` by looking to the specifications\n",
    "3. Display the results"
   ]
  }
 ],
 "metadata": {
  "kernelspec": {
   "display_name": "base",
   "language": "python",
   "name": "python3"
  },
  "language_info": {
   "codemirror_mode": {
    "name": "ipython",
    "version": 3
   },
   "file_extension": ".py",
   "mimetype": "text/x-python",
   "name": "python",
   "nbconvert_exporter": "python",
   "pygments_lexer": "ipython3",
   "version": "3.9.12"
  },
  "vscode": {
   "interpreter": {
    "hash": "7861d0b3c3972525d2c4e83e9861eadfe3d7833f46e7ff1f58fa3fb4d90a3d16"
   }
  }
 },
 "nbformat": 4,
 "nbformat_minor": 2
}
