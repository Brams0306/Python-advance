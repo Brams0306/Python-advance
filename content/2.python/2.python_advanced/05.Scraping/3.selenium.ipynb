{
 "cells": [
  {
   "cell_type": "markdown",
   "metadata": {},
   "source": [
    "# Scraping with Selenium\n",
    "\n",
    "A lot of modern websites relies on Javascript to navigate dynamically in the content. However the usual Python web scrapers (like `requests`) are not able to execute javascript. Since then they are struggling in getting the content of dynamic web pages.\n",
    "\n",
    "Selenium is THE solution for tackling this problem. Initially it has been created to automate tests on websites. It will open your browser _for real_ and allow you to simulate human interactions in website through Python commands.\n",
    "\n",
    "For example it can be useful when information is accessible by clicking on buttons (which is not possible with `requests` and `beautifulsoup`)."
   ]
  },
  {
   "cell_type": "markdown",
   "metadata": {},
   "source": [
    "### Install Selenium according to this manual\n",
    "\n",
    "https://selenium-python.readthedocs.io/installation.html#downloading-python-bindings-for-selenium/bin\n",
    "\n",
    "*NB: On Linux, put your `geckodriver` (the downloaded extension) in the equivalent path on your machine into `/home/<YOUR_NAME>/.local/bin/`*"
   ]
  },
  {
   "cell_type": "code",
   "execution_count": 23,
   "metadata": {},
   "outputs": [],
   "source": [
    "# The selenium.webdriver module provides all the implementations of WebDriver\n",
    "# Currently supported are Firefox, Chrome, IE and Remote. The `Keys` class provides keys on\n",
    "# the keyboard such as RETURN, F1, ALT etc.\n",
    "from selenium import webdriver\n",
    "from selenium.webdriver.common.keys import Keys\n",
    "from selenium.webdriver.common.by import By"
   ]
  },
  {
   "cell_type": "markdown",
   "metadata": {},
   "source": [
    "### Search engine simulation"
   ]
  },
  {
   "cell_type": "markdown",
   "metadata": {},
   "source": [
    "We will simulate a query on the official Python website by using the search bar."
   ]
  },
  {
   "cell_type": "code",
   "execution_count": 24,
   "metadata": {},
   "outputs": [],
   "source": [
    "# Here, we create instance of Firefox WebDriver.\n",
    "driver = webdriver.Firefox()\n",
    "\n",
    "# The driver.get method will lead to a page given by the URL. WebDriver will wait until the page is fully\n",
    "# loaded (i.e. the \"onload\" event has been triggered) before returning the control to your script.\n",
    "# It should be noted that if your page uses a lot of AJAX calls when loading, WebDriver may not know\n",
    "# when it was fully loaded.\n",
    "driver.get(\"http://www.python.org\")\n",
    "\n",
    "# The following line is a statement confirming that the title contains the word \"Python\".\n",
    "assert \"Python\" in driver.title\n",
    "\n",
    "# WebDriver offers a method `find_element` that aims to search for item based on attributes\n",
    "# For example, the input text element can be located by its name attribute by\n",
    "# using the attribute `name` with the value `q`\n",
    "elem = driver.find_element(By.NAME, \"q\")\n",
    "\n",
    "# Then we send keys. This is similar to entering keys using your keyboard.\n",
    "# Special keys can be sent using the `Keys` class imported in line 7 (from selenium.webdriver.common.keys import Keys).\n",
    "# For security reasons, we will delete any pre-filled text in the input field\n",
    "# (for example, \"Search\") so that it does not affect our search results:\n",
    "elem.clear()\n",
    "elem.send_keys(\"pycon\")\n",
    "elem.send_keys(Keys.RETURN)\n",
    "\n",
    "# After submitting the page, you should get the result if there is one. To ensure that certain results\n",
    "# are found, make an assertion that ensures that the source page does not contain the word \"No results found\".\n",
    "assert \"No results found.\" not in driver.page_source\n",
    "driver.close()"
   ]
  },
  {
   "cell_type": "markdown",
   "metadata": {},
   "source": [
    "### Getting the title of all the articles from the homepage of _The New York Times_\n",
    "\n",
    "First let's open the homepage of the newspaper's website.\n"
   ]
  },
  {
   "cell_type": "code",
   "execution_count": 20,
   "metadata": {},
   "outputs": [],
   "source": [
    "url = \"https://www.nytimes.com/\"\n",
    "\n",
    "driver = webdriver.Firefox()\n",
    "driver.get(url)"
   ]
  },
  {
   "cell_type": "markdown",
   "metadata": {},
   "source": [
    "As you can see, you are facing the famous GDPR banner. Let's accept it in order to access the page!"
   ]
  },
  {
   "cell_type": "code",
   "execution_count": 25,
   "metadata": {},
   "outputs": [
    {
     "ename": "InvalidSessionIdException",
     "evalue": "Message: Tried to run command without establishing a connection\n",
     "output_type": "error",
     "traceback": [
      "\u001b[1;31m---------------------------------------------------------------------------\u001b[0m",
      "\u001b[1;31mInvalidSessionIdException\u001b[0m                 Traceback (most recent call last)",
      "Cell \u001b[1;32mIn[25], line 1\u001b[0m\n\u001b[1;32m----> 1\u001b[0m cookie_button \u001b[39m=\u001b[39m driver\u001b[39m.\u001b[39;49mfind_element(By\u001b[39m.\u001b[39;49mXPATH, \u001b[39m\"\u001b[39;49m\u001b[39m//button[@data-testid=\u001b[39;49m\u001b[39m'\u001b[39;49m\u001b[39mGDPR-accept\u001b[39;49m\u001b[39m'\u001b[39;49m\u001b[39m]\u001b[39;49m\u001b[39m\"\u001b[39;49m)\n\u001b[0;32m      2\u001b[0m cookie_button\u001b[39m.\u001b[39mclick()\n",
      "File \u001b[1;32m~\\AppData\\Local\\Packages\\PythonSoftwareFoundation.Python.3.10_qbz5n2kfra8p0\\LocalCache\\local-packages\\Python310\\site-packages\\selenium\\webdriver\\remote\\webdriver.py:861\u001b[0m, in \u001b[0;36mWebDriver.find_element\u001b[1;34m(self, by, value)\u001b[0m\n\u001b[0;32m    858\u001b[0m     by \u001b[39m=\u001b[39m By\u001b[39m.\u001b[39mCSS_SELECTOR\n\u001b[0;32m    859\u001b[0m     value \u001b[39m=\u001b[39m \u001b[39m'\u001b[39m\u001b[39m[name=\u001b[39m\u001b[39m\"\u001b[39m\u001b[39m%s\u001b[39;00m\u001b[39m\"\u001b[39m\u001b[39m]\u001b[39m\u001b[39m'\u001b[39m \u001b[39m%\u001b[39m value\n\u001b[1;32m--> 861\u001b[0m \u001b[39mreturn\u001b[39;00m \u001b[39mself\u001b[39;49m\u001b[39m.\u001b[39;49mexecute(Command\u001b[39m.\u001b[39;49mFIND_ELEMENT, {\u001b[39m\"\u001b[39;49m\u001b[39musing\u001b[39;49m\u001b[39m\"\u001b[39;49m: by, \u001b[39m\"\u001b[39;49m\u001b[39mvalue\u001b[39;49m\u001b[39m\"\u001b[39;49m: value})[\u001b[39m\"\u001b[39m\u001b[39mvalue\u001b[39m\u001b[39m\"\u001b[39m]\n",
      "File \u001b[1;32m~\\AppData\\Local\\Packages\\PythonSoftwareFoundation.Python.3.10_qbz5n2kfra8p0\\LocalCache\\local-packages\\Python310\\site-packages\\selenium\\webdriver\\remote\\webdriver.py:444\u001b[0m, in \u001b[0;36mWebDriver.execute\u001b[1;34m(self, driver_command, params)\u001b[0m\n\u001b[0;32m    442\u001b[0m response \u001b[39m=\u001b[39m \u001b[39mself\u001b[39m\u001b[39m.\u001b[39mcommand_executor\u001b[39m.\u001b[39mexecute(driver_command, params)\n\u001b[0;32m    443\u001b[0m \u001b[39mif\u001b[39;00m response:\n\u001b[1;32m--> 444\u001b[0m     \u001b[39mself\u001b[39;49m\u001b[39m.\u001b[39;49merror_handler\u001b[39m.\u001b[39;49mcheck_response(response)\n\u001b[0;32m    445\u001b[0m     response[\u001b[39m\"\u001b[39m\u001b[39mvalue\u001b[39m\u001b[39m\"\u001b[39m] \u001b[39m=\u001b[39m \u001b[39mself\u001b[39m\u001b[39m.\u001b[39m_unwrap_value(response\u001b[39m.\u001b[39mget(\u001b[39m\"\u001b[39m\u001b[39mvalue\u001b[39m\u001b[39m\"\u001b[39m, \u001b[39mNone\u001b[39;00m))\n\u001b[0;32m    446\u001b[0m     \u001b[39mreturn\u001b[39;00m response\n",
      "File \u001b[1;32m~\\AppData\\Local\\Packages\\PythonSoftwareFoundation.Python.3.10_qbz5n2kfra8p0\\LocalCache\\local-packages\\Python310\\site-packages\\selenium\\webdriver\\remote\\errorhandler.py:249\u001b[0m, in \u001b[0;36mErrorHandler.check_response\u001b[1;34m(self, response)\u001b[0m\n\u001b[0;32m    247\u001b[0m         alert_text \u001b[39m=\u001b[39m value[\u001b[39m\"\u001b[39m\u001b[39malert\u001b[39m\u001b[39m\"\u001b[39m]\u001b[39m.\u001b[39mget(\u001b[39m\"\u001b[39m\u001b[39mtext\u001b[39m\u001b[39m\"\u001b[39m)\n\u001b[0;32m    248\u001b[0m     \u001b[39mraise\u001b[39;00m exception_class(message, screen, stacktrace, alert_text)  \u001b[39m# type: ignore[call-arg]  # mypy is not smart enough here\u001b[39;00m\n\u001b[1;32m--> 249\u001b[0m \u001b[39mraise\u001b[39;00m exception_class(message, screen, stacktrace)\n",
      "\u001b[1;31mInvalidSessionIdException\u001b[0m: Message: Tried to run command without establishing a connection\n"
     ]
    }
   ],
   "source": [
    "cookie_button = driver.find_element(By.XPATH, \"//button[@data-testid='GDPR-accept']\")\n",
    "cookie_button.click()"
   ]
  },
  {
   "cell_type": "markdown",
   "metadata": {},
   "source": [
    "Now let's get all the titles of the articles by using XPATH and let's store them in a list\n"
   ]
  },
  {
   "cell_type": "code",
   "execution_count": 26,
   "metadata": {},
   "outputs": [
    {
     "ename": "InvalidSessionIdException",
     "evalue": "Message: Tried to run command without establishing a connection\n",
     "output_type": "error",
     "traceback": [
      "\u001b[1;31m---------------------------------------------------------------------------\u001b[0m",
      "\u001b[1;31mInvalidSessionIdException\u001b[0m                 Traceback (most recent call last)",
      "Cell \u001b[1;32mIn[26], line 1\u001b[0m\n\u001b[1;32m----> 1\u001b[0m article_titles \u001b[39m=\u001b[39m driver\u001b[39m.\u001b[39;49mfind_elements(By\u001b[39m.\u001b[39;49mXPATH, \u001b[39m\"\u001b[39;49m\u001b[39m//section[@class=\u001b[39;49m\u001b[39m'\u001b[39;49m\u001b[39mstory-wrapper\u001b[39;49m\u001b[39m'\u001b[39;49m\u001b[39m]//h3\u001b[39;49m\u001b[39m\"\u001b[39;49m)\n\u001b[0;32m      2\u001b[0m all_titles \u001b[39m=\u001b[39m []\n\u001b[0;32m      3\u001b[0m \u001b[39mfor\u001b[39;00m title \u001b[39min\u001b[39;00m article_titles:\n",
      "File \u001b[1;32m~\\AppData\\Local\\Packages\\PythonSoftwareFoundation.Python.3.10_qbz5n2kfra8p0\\LocalCache\\local-packages\\Python310\\site-packages\\selenium\\webdriver\\remote\\webdriver.py:892\u001b[0m, in \u001b[0;36mWebDriver.find_elements\u001b[1;34m(self, by, value)\u001b[0m\n\u001b[0;32m    888\u001b[0m     value \u001b[39m=\u001b[39m \u001b[39m'\u001b[39m\u001b[39m[name=\u001b[39m\u001b[39m\"\u001b[39m\u001b[39m%s\u001b[39;00m\u001b[39m\"\u001b[39m\u001b[39m]\u001b[39m\u001b[39m'\u001b[39m \u001b[39m%\u001b[39m value\n\u001b[0;32m    890\u001b[0m \u001b[39m# Return empty list if driver returns null\u001b[39;00m\n\u001b[0;32m    891\u001b[0m \u001b[39m# See https://github.com/SeleniumHQ/selenium/issues/4555\u001b[39;00m\n\u001b[1;32m--> 892\u001b[0m \u001b[39mreturn\u001b[39;00m \u001b[39mself\u001b[39;49m\u001b[39m.\u001b[39;49mexecute(Command\u001b[39m.\u001b[39;49mFIND_ELEMENTS, {\u001b[39m\"\u001b[39;49m\u001b[39musing\u001b[39;49m\u001b[39m\"\u001b[39;49m: by, \u001b[39m\"\u001b[39;49m\u001b[39mvalue\u001b[39;49m\u001b[39m\"\u001b[39;49m: value})[\u001b[39m\"\u001b[39m\u001b[39mvalue\u001b[39m\u001b[39m\"\u001b[39m] \u001b[39mor\u001b[39;00m []\n",
      "File \u001b[1;32m~\\AppData\\Local\\Packages\\PythonSoftwareFoundation.Python.3.10_qbz5n2kfra8p0\\LocalCache\\local-packages\\Python310\\site-packages\\selenium\\webdriver\\remote\\webdriver.py:444\u001b[0m, in \u001b[0;36mWebDriver.execute\u001b[1;34m(self, driver_command, params)\u001b[0m\n\u001b[0;32m    442\u001b[0m response \u001b[39m=\u001b[39m \u001b[39mself\u001b[39m\u001b[39m.\u001b[39mcommand_executor\u001b[39m.\u001b[39mexecute(driver_command, params)\n\u001b[0;32m    443\u001b[0m \u001b[39mif\u001b[39;00m response:\n\u001b[1;32m--> 444\u001b[0m     \u001b[39mself\u001b[39;49m\u001b[39m.\u001b[39;49merror_handler\u001b[39m.\u001b[39;49mcheck_response(response)\n\u001b[0;32m    445\u001b[0m     response[\u001b[39m\"\u001b[39m\u001b[39mvalue\u001b[39m\u001b[39m\"\u001b[39m] \u001b[39m=\u001b[39m \u001b[39mself\u001b[39m\u001b[39m.\u001b[39m_unwrap_value(response\u001b[39m.\u001b[39mget(\u001b[39m\"\u001b[39m\u001b[39mvalue\u001b[39m\u001b[39m\"\u001b[39m, \u001b[39mNone\u001b[39;00m))\n\u001b[0;32m    446\u001b[0m     \u001b[39mreturn\u001b[39;00m response\n",
      "File \u001b[1;32m~\\AppData\\Local\\Packages\\PythonSoftwareFoundation.Python.3.10_qbz5n2kfra8p0\\LocalCache\\local-packages\\Python310\\site-packages\\selenium\\webdriver\\remote\\errorhandler.py:249\u001b[0m, in \u001b[0;36mErrorHandler.check_response\u001b[1;34m(self, response)\u001b[0m\n\u001b[0;32m    247\u001b[0m         alert_text \u001b[39m=\u001b[39m value[\u001b[39m\"\u001b[39m\u001b[39malert\u001b[39m\u001b[39m\"\u001b[39m]\u001b[39m.\u001b[39mget(\u001b[39m\"\u001b[39m\u001b[39mtext\u001b[39m\u001b[39m\"\u001b[39m)\n\u001b[0;32m    248\u001b[0m     \u001b[39mraise\u001b[39;00m exception_class(message, screen, stacktrace, alert_text)  \u001b[39m# type: ignore[call-arg]  # mypy is not smart enough here\u001b[39;00m\n\u001b[1;32m--> 249\u001b[0m \u001b[39mraise\u001b[39;00m exception_class(message, screen, stacktrace)\n",
      "\u001b[1;31mInvalidSessionIdException\u001b[0m: Message: Tried to run command without establishing a connection\n"
     ]
    }
   ],
   "source": [
    "article_titles = driver.find_elements(By.XPATH, \"//section[@class='story-wrapper']//h3\")\n",
    "all_titles = []\n",
    "for title in article_titles:\n",
    "    all_titles.append(title.text)\n",
    "\n",
    "all_titles"
   ]
  },
  {
   "cell_type": "markdown",
   "metadata": {},
   "source": [
    "Here we are ! Let's close the browser then !"
   ]
  },
  {
   "cell_type": "code",
   "execution_count": 14,
   "metadata": {},
   "outputs": [],
   "source": [
    "driver.close()"
   ]
  },
  {
   "cell_type": "markdown",
   "metadata": {},
   "source": [
    "### Exercise\n",
    "\n",
    "1. Use Selenium for opening the homepage of your favourite newspaper (not the New York Times, too easy)\n",
    "2. Close the cookie banner (if it appears)\n",
    "3. Get the link of the first article of the page and open it\n",
    "4. Print the title and the content of the article\n",
    "\n",
    "**tip:** [Newspaper3k](https://pypi.org/project/newspaper3k/) is a powerful library for scraping articles from newspapers. Have a look to the `fulltext` method."
   ]
  },
  {
   "cell_type": "code",
   "execution_count": 19,
   "metadata": {},
   "outputs": [
    {
     "data": {
      "text/plain": [
       "[\"S'identifier\\nS'abonner\\nA la Une\\nCoupe du monde\\nOpinions\\nPodcasts\\nPolitique\\nSociété\\nMonde\\nÉconomie\\nSports\\nCulture\\nMAD\\nPlanète\\nMa Santé\\nLéNA\\nRepensons notre quotidien\\nLe journal\\nPodcasts\\nToutes l'actualité du Soir\\nA la Une\\nUn accord historique sur la biodiversité approuvé à la COP15 de Montréal\\nAprès quatre années de négociations difficiles, dix jours et une nuit de marathon diplomatique, plus de 190 États sont parvenus à un accord sous l’égide de la Chine, présidente de la COP15, malgré une opposition de la République démocratique du Congo.\\nL’Union se dote d’une taxe carbone à ses frontières\\nLe plan climat wallon épargne la voiture, pas le mazout\\nAnvers touchée par une cyberattaque: «Rien n’indique que des données personnelles ont été dérobées»\\nUn collectif de hackers avait revendiqué la cyberattaque.\\nToujours plus de Belges exclus des services bancaires\\nLe volumineux rapport sur l’inclusion financière de l’ASBL Financité tire la sonnette d’alarme : l’accessibilité aux services bancaires, pourtant indispensables dans nos sociétés, a encore diminué en Belgique.\\nPar Amandine Cloot\\nProcès des attentats de Bruxelles: Salah Abdeslam à nouveau absent à l’audience\\nAnalyse Coupe du monde: Mbappé dans l’Histoire, Messi pour l’Éternité\\nPar Frédéric Larsimont\\nJean-Michel Larqué débriefe la finale de Coupe du monde: «Ce scénario fou est cruel pour la France mais, après tout, il est normal»\\nÀ la fin, c’est toujours le foot qui gagne? On ne lâche rien\\nLa réaction de Kylian Mbappé après la défaite de la France en finale de Coupe du monde\\nMétéo Bruxelles\\n9°\\nBourse Bel20\\n0.67%\\nLe fil info\\nSPORT\\nACTUALITÉS\\n12:02\\nAvec ses centrales, Xylergy veut participer à décarboner le monde\\n11:54\\nFêtes de fin d’année: Colruyt met en garde contre une date de péremption incorrecte\\n11:44\\nLiège s’engage sur le chemin d’une alimentation plus saine et durable\\n11:12\\nColliers électriques, aquariums sphériques... la Wallonie interdit plusieurs accessoires pour animaux\\nVoir tout le Fil info\\nAllez au-delà de l'actualité\\nDécouvrez tous les changements\\nDécouvrir\\nQatargate, pénurie de main d'oeuvre en Europe... le récap’ européen de la semaine (vidéo)\\nCrise de l’accueil: pression maximale sur Alexander De Croo\\nPar Maxime Biermé\\nCarburant: le prix du diesel en baisse ce mardi\\nAnalyse Pourquoi les partis francophones n’écartent pas automatiquement un élu inculpé ou condamné\\nPar Martine Dubuisson\\nCorruption: le domicile de Panzeri était sur écoute\\nPar Louis Colart et Joël Matriche\\nCorruption au Parlement européen: le ministre qatari du Travail, au cœur de luttes intestines de pouvoir\\nEnquête Cash, flagrant délit et perquisitions sensibles: le récit de trois jours d’une enquête anti-corruption inouïe\\nDeux logements bruxellois ensevelis sous l’argent cash : c’est la découverte ahurissante des enquêteurs, vendredi après-midi en perquisition, à l’issue d’un scénario rocambolesque qui a fait tomber une vice-présidente du Parlement européen et vu Marc Tarabella perquisitionné à son domicile.\\nPar Louis Colart et Joël Matriche\\nPerquisitions au Parlement européen et avoirs gelés en Grèce: l’enquête se poursuit tambour battant\\nInfo «Le Soir»: le Qatar soupçonné de corruption en plein cœur de l’Europe\\nEntretien Cinq chefs présentent au «Soir» leurs plats pour les Fêtes: la première entrée de Sebath Capela\\nPar Anne-Sophie Leurquin\\nColliers électriques, aquariums sphériques... la Wallonie interdit plusieurs accessoires pour animaux\\nPlus d'articles à la une\\nCoupe du monde\\n«Gloire éternelle à Messi», «Le pied de Dieu»: la presse salue le sacre de l’Argentine et de Messi en finale de Coupe du monde\\nLionel Messi ajoute une ligne de plus à son palmarès, celle qui lui manquait tant : le titre de champion du monde.\\nAnalyse Coupe du monde: Mbappé dans l’Histoire, Messi pour l’Éternité\\nPar Frédéric Larsimont\\nLe troisième but de la France contre l’Argentine aurait-il dû lui aussi être annulé? La vidéo qui sème de doute!\\n«57 secondes de gênance», «l’indécence»: le comportement de Macron au Qatar cible de nombreuses critiques\\nAvec 24 millions de téléspectateurs pour la finale de la Coupe du monde, TF1 bat un record historique\\nVoir plus d'articles\\nCoupe du monde au Qatar\\nRésultats et classements\\nRésultats et classements\\nOpinions\\nL'édito\\nde Béatrice Delvaux\\nÀ la fin, c’est toujours le foot qui gagne? On ne lâche rien\\nLe Kroll\\nLa carte blanche\\nPlan bruxellois contre le racisme: des avancées, mais pas mal d’occasions manquées\\nLa chronique\\nde Martine Dubuisson\\n«Côté cour»: La monarchie, c’est aussi une question d’image(s)\\nVoir plus d'articles\\nPodcasts\\nÉcouter plus de podcasts\\nPolitique\\nCrise de l’accueil: pression maximale sur Alexander De Croo\\nLe Premier ministre et sa secrétaire d’Etat, Nicole de Moor (CD&V), considèrent que la situation est sous contrôle. Pas les verts ni les socialistes, qui demandent à passer en phase fédérale de crise. Dans l’opposition, Les Engagés ont décidé de mener une action coup de poing en passant la nuit dehors, devant le siège de l’Open VLD.\\nPar Maxime Biermé\\nAnalyse Pourquoi les partis francophones n’écartent pas automatiquement un élu inculpé ou condamné\\nPar Martine Dubuisson\\nVincent Van Quickenborne s’apprête à passer les Fêtes au secret\\nPar William Bourton\\nLa Belgique appelle ses ressortissants à quitter l’Iran dans les plus brefs délais\\nDe Croo veut retarder l’augmentation de la pension minimum\\nPar Pascal Lorent\\nVoir plus d'articles\\nSociété\\nEntretien Cinq chefs présentent au «Soir» leurs plats pour les Fêtes: la première entrée de Sebath Capela\\nFormé dans l’enseignement en alternance puis dans de grandes maisons, le trentenaire a posé son savoir-faire dans les luxueux locaux de l’Indrani Lodge, à Genappe (Brabant wallon). S’il n’est pas le propriétaire du restaurant Elément, il n’en reste pas moins un chef investi.\\nPar Anne-Sophie Leurquin\\nMétéo: des dizaines d’accidents et au moins deux morts après les pluies verglaçantes\\nBelge disparue au Pérou: le combat des parents de Natacha pour ramener leur fille\\nPar Laurence Wauters\\nProcès des attentats de Bruxelles: Salah Abdeslam à nouveau absent à l’audience\\nVoir plus d'articles\\nLe kiosque\\nVoir toutes les éditions\\nMonde\\nPortrait Corruption au Parlement européen: le ministre qatari du Travail, au cœur de luttes intestines de pouvoir\\nLe nom d’Ali ben Samikh Al-Marri est cité dans le dossier de corruption au Parlement européen.\\nPar Pauline Hofmann\\nComment l’Europe veut accélérer ses réductions d’émissions de CO2\\nPar Julien Bosseler\\nLa dernière condamnation d’une complice de la Shoah?\\nPar Christophe Bourdoiseau\\nFrance : 227 interpellations après la finale de la Coupe du monde\\nLa Corée du Nord a mené un test pour le développement d’un satellite espion\\nVoir plus d'articles\\nÉconomie\\n«Tsunami technologique», «invention du siècle»: ChatGPT affole le monde de la tech\\nCette intelligence artificielle est capable de répondre à n’importe quelle question, d’écrire du code informatique, des scénarios, des articles, des travaux universitaires, des diagnostics médicaux. En route pour la nouvelle révolution industrielle, celle de l’automatisation des tâches intellectuelles. Non sans susciter certaines inquiétudes. Et des angoisses existentielles chez les informaticiens, les profs, les médecins…\\nPar Philippe Laloux\\nToujours plus de Belges exclus des services bancaires\\nPar Amandine Cloot\\nDiversité, égalité et inclusion, armes fatales de la guerre des talents?\\nPar Caroline Dunski\\nLes Belges sont moins satisfaits de leur situation financière\\nVoir plus d'articles\\nVidéos\\nL'interview Tac-o-Tac de Gad Elmaleh\\nLe Soir 15-12-2022 21:55:19\\nLes racines élémentaires de Gad Elmaleh\\nLe Soir 15-12-2022 20:53:39\\n213 arrestations à Bruxelles après la défaite du Maroc\\nLe Soir 15-12-2022 11:38:47\\nLes coups de coeur du MAD\\nLe Soir 14-12-2022 10:04:48\\nPlus de vidéos\\nSports\\nChronique Philippe Albert: «Messi attend Mbappé au Panthéon des plus grands»\\nPhilippe Albert, notre consultant sur l’actualité du football, revient sur le sacre de l’Argentine en finale de la Coupe du monde 2022.\\nMessi, Mbappé, Martinez...: voici ce qu’on a aimé... ou pas pendant la Coupe du monde\\nAnalyse Coupe du monde: Mbappé dans l’Histoire, Messi pour l’Éternité\\nPar Frédéric Larsimont\\nLa réaction de Kylian Mbappé après la défaite de la France en finale de Coupe du monde\\nLa relève est assurée: Nicolás, le fils de Thibaut Courtois, remporte son premier tournoi avec les jeunes du Real Madrid à 5 ans (photos)\\nVoir plus d'articles\\nLes plus lus\\nToujours plus de Belges exclus des services bancaires\\nPar Amandine Cloot\\nChronique Jean-Michel Larqué débriefe la finale de Coupe du monde: «Ce scénario fou est cruel pour la France mais, après tout, il est normal»\\nPourquoi FedEx fait voler des avions à vide d’Istanbul vers Liege Airport\\nPar Alain Jennotte\\nAnalyse Coupe du monde: Mbappé dans l’Histoire, Messi pour l’Éternité\\nPar Frédéric Larsimont\\nAnalyse Pourquoi les partis francophones n’écartent pas automatiquement un élu inculpé ou condamné\\nPar Martine Dubuisson\\nÀ la fin, c’est toujours le foot qui gagne? On ne lâche rien\\nPar Béatrice Delvaux\\nBoutique\\nCouverture chauffante polaire\\n49.99€ Au lieu de 79.99€\\nRhum Zandoli Jamaïque\\n38.00€ Au lieu de 42.35€\\nAmalys Gift box - Odile\\n139.00€ Au lieu de 169.90€\\nMystères et grandeur d'un empire en terre cambodgienne - 12J/11N\\n3199.00€\\nJe découvre la boutique\\nCulture\\nGrand format Les Racines élémentaires de Gad Elmaleh: «Petit, quand j’allais dans la maison des riches, je me disais: Un jour, j’aurai ça»\\nC’est l’histoire d’un petit garçon né au Maroc, dans un milieu pas pauvre mais « moyen moins », avec son monde à lui. Un enfant rejeté par ses camarades de classe, sauf quand il les faisait rire.\\nPar Fabienne Bradfer et Béatrice Delvaux\\nEntretien L’écrivaine et réalisatrice Xiaolu Guo: «En Chine, si tu veux faire entendre ta voix, tu n’as pas intérêt à devenir un martyr»\\n«Avatar 2», «Les huit montagnes»... les cinq sorties cinéma de cette semaine à ne pas manquer\\nLa figurine originale d’E.T. vendue 2,6 millions de dollars aux enchères\\nCritique Michel Cloup chante le chaos\\nPar Thierry Coljon\\nVoir plus d'articles\\nLe Magazine des Arts et du Divertissement du Soir\\nArié Mandelbaum, Picasso...: les cinq expos à ne pas manquer cette semaine\\nRetrouvez notre sélection des expos en cours.\\n«Toâ», «Misericordia»...: les cinq spectacles à ne pas manquer cette semaine\\nLe petit moment qui fait du bien: souhaiter un joyeux anniversaire à la façon des grands compositeurs avec Nicole Pesce\\nPar Jean-Marie Wynants\\nÉdito Avatar 2: James Cameron le magicien\\nPar Jean-Marie Wynants\\nVidéo Les coups de cœur du MAD (vidéo)\\nVoir plus d'articles\\nInvitations\\nPièce 'Art'\\n13 x 2 places\\nPièce 'Edmond'\\n10 x 2 places\\nConcert ‘Belgian National Orchestra & McAdams’\\n5 x 2 places\\nLe pass musées : la bonne idée cadeau pour les fêtes\\n20 pass musées\\nVoir toutes les Invitations\\nPlanète\\nLe plan climat wallon épargne la voiture, pas le mazout\\nLe gouvernement wallon a dessiné les contours de son plan climat. Les premiers arbitrages ont eu la peau du 100 km/h sur autoroute. Ils confirment la fin annoncée du chauffage au mazout. Et hésitent sur les obligations de rénovation.\\nPar Michel De Muelenaere\\nL’Union se dote d’une taxe carbone à ses frontières\\nPar Michel De Muelenaere\\nReportage En Suisse, si on ne fait rien, «les gens ne trouveront rapidement plus rien de mignon aux ratons laveurs»\\nUn accord historique sur la biodiversité approuvé à la COP15 de Montréal\\nCOP15: l’objectif de protéger 30% de la planète retenu dans le projet d’accord\\nVoir plus d'articles\\nPartenaires\\nAG Insurance\\nPrès d’un indépendant belge sur deux n’a pas encore souscrit à une pension complémentaire\\nhub.brussels\\nEntreprises, indépendants, commerçants : en route vers la transition économique!\\nKia\\nJustin « Gipsy » Ilunga crée un pont entre l’Afrique et la Belgique avec Japade : « Je veux transmettre mon héritage »\\nFord Pro\\nDes services qui facilitent la vie professionnelle\\nHyundai\\nCette marque de voiture dépasse la plupart des attentes\\nMa Santé\\nTremblement essentiel: quand chaque geste du quotidien devient un défi\\nLe tremblement essentiel n’est pas rare. Il n’est pas bénin non plus. Car si elle n’est pas mortelle, cette maladie est extrêmement invalidante pour les patients qui en souffrent. Et ils manquent cruellement de solutions.\\nPar Pauline Martial\\nUn dispositif liégeois mesure la fatigue musculaire des sportifs\\nPar Pauline Martial\\nMénopause: le traitement hormonal est-il une fatalité?\\nPar Pauline Martial\\nEntretien Pourquoi il faut parfois se méfier de notre cerveau\\nPar Sandra Durieux\\nL’ASMR, cette méthode de relaxation auditive et visuelle qui cartonne\\nPar Pauline Martial\\nVoir plus d'articles\\nUne semaine sans gaz, avec des températures négatives dehors: «C’était pire que ce que je pensais»\\nFelix Eick a coupé le chauffage et testé la vie sans gaz. Il a fait de plus en plus froid. Le train de banlieue était devenu pour lui un moment de pur bonheur, et c’est la douche qui l’a conduit à la capitulation.\\nAvec LéNA, découvrez le meilleur du journalisme européen.\\nEntretien L’écrivaine et réalisatrice Xiaolu Guo: «En Chine, si tu veux faire entendre ta voix, tu n’as pas intérêt à devenir un martyr»\\nLe prix de l’huile d’olive atteint des niveaux records et décourage de nombreux consommateurs\\nReportage Guerre en Ukraine: le fantôme de Catherine II hante la mémoire d’Odessa\\nReportage En Suisse, si on ne fait rien, «les gens ne trouveront rapidement plus rien de mignon aux ratons laveurs»\\nVoir plus d'articles\\nRepensons notre quotidien\\nLes repas solidaires, une affaire qui roule à Bruxelles\\nTrois jours par semaine, le food-truck de l’ASBL « le Ralliement des fourchettes » propose des plats végétariens à prix libre. Porté par plusieurs acteurs sociaux associatifs bruxellois, le projet fête son premier anniversaire.\\nPar Patrice Leprince\\nShein, la marque que les plus de 30 ans ne peuvent pas connaître\\nPar Amandine Cloot\\nLe secret pour préparer un véritable chocolat chaud\\nPar Pauline Martial\\nPeut-on détester Noël?\\nPar Jean-Philippe de Vogelaere\\nCes dernières dépenses pour optimiser vos impôts en 2022\\nPar Cécile Danjou\\nVoir plus d'articles\\nSoSoir\\nTrois bouteilles de bulles à moins de 12€ pour un réveillon économique\\nVoici le top 10 des destinations européennes où voyager cet hiver\\nComment cette habitude simple augmente votre espérance de vie\\nPourquoi les footballeurs sont-ils devenus les chouchous des marques de luxe ?\\nVoir les articles de SoSoir\\nRéférences\\n5 endroits pour fêter Noël entre collègues\\nLe grand court-circuit\\n« Amine a créé son propre emploi »\\nPour plus d'un Belge sur trois, les prix de l'alimentation affectent plus le portefeuille\\nVoir les articles de Références\\nGeeko\\nLes services IPTV engrangent plus d'un milliard d'euros par an en Europe\\nTest - Crisis Core Final Fantasy VII Reunion : Entre remake et remaster\\nCrisis Core Final Fantasy VII Reunion : nos vidéos de gameplay\\nLes cryptomonnaies pour venir en aide aux réfugiés ukrainiens\\nVoir les articles de Geeko\\nLesoir Immo\\nImmobilier: de nouvelles obligations pour les propriétaires\\nPrix de l’immobilier : tout savoir sur le prix des maisons en Belgique, commune par commune (carte interactive)\\nLe bâtiment Glaverbel, à Boitsfort, est désormais définitivement protégé\\nDes espaces vides à occuper: Monoma appelle la Belgique à instaurer un cadre légal\\nVoir les articles de Lesoir Immo\\nSoirmag\\nVoici la nouvelle Miss France 2023\\nLa mésaventure de Louane au Canada: «J’ai pleuré devant la police»\\nLa cascade incroyable de Tom Cruise pour remercier ses fans (vidéo)\\nMeghan Markle dévoile son discours de mariage pour le prince Harry\\nVoir les articles de Soirmag\\nCinenews\\nConcours : Falcon Lake\\nL'Américain David Fincher recevra un César d'honneur\\nLe futur réalisateur ou journaliste cinéma du mois !\\nKevin Spacey de retour devant la justice, accusé de nouvelles agressions sexuelles\\nVoir les articles de Cinenews\\nVacancesweb\\nTesté pour vous à Chantilly, un week-end de fin d’année\\nVoir les articles de Vacancesweb\\nImmovlan\\nL’énergie coûtera-t-elle toujours autant en 2023 ?\\nNouveauté : une guirlande connectée pour Noël !\\nVoir les articles de Immovlan\\nGocar\\nPollution de l’air : Bruxelles prononce plusieurs interdictions\\nVoir les articles de Gocar\\nL'actu tous les jours\\ngrâce à notre newsletter\\nS'inscrire aux newsletters\\nRetour en haut du site\\nLES SECTIONS DU SITE\\nOpinions\\nPolitique\\nSociété\\nMonde\\nÉconomie\\nSports\\nCulture\\nMAD\\nPlanète\\nSanté\\nRepensons notre quotidien\\nPodcasts\\nVidéos\\nSo Soir\\nSoirmag\\nArchives\\nLES SERVICES\\nBourses\\nTrafic\\nMétéo\\nProgrammes télé\\nClub du Soir\\nNous contacter\\nRSS\\nLes voyages du Soir\\nLa boutique SoSoir\\nPetites annonces\\nAnnonces immobilières\\nGocar\\nBons plans\\nComparateur\\nGuide d'achat\\nCodes promos Belgique\\nFaire-part et cartes de vœux\\nPhotobook\\nLes Œuvres du Soir\\nToutes nos archives\\nGérer les cookies\\nGROUPE ROSSEL\\nRossel\\nRossel Advertising\\nReferences\\nCinenews\\nOut.be\\nL'Echo\\nSudInfo\\nMetro\\nKotplanet.be\\nGrenz Echo\\nLa Voix du Nord\\nVlan\\nRendez-vous\\nEn mémoire\\nSillon belge\\nApp Store Optimization\\nImmovlan\\nVLANSHOP\\nSUIVEZ LE SOIR\\nFacebook\\nTwitter\\nInstagram\\nFlux RSS\\n© Rossel & Cie - 2022\\nConditions générales d’utilisation - Conditions générales de vente - Politique de cookies - Politique de Protection Vie privée - Charte des médias - Droits de reproduction\"]"
      ]
     },
     "execution_count": 19,
     "metadata": {},
     "output_type": "execute_result"
    }
   ],
   "source": [
    "url = \"https://www.lesoir.be/\"\n",
    "\n",
    "driver = webdriver.Firefox()\n",
    "driver.get(url)\n",
    "\n",
    "\n",
    "article_titles = driver.find_elements(By.XPATH, \"/html/body/r-wrapper\")\n",
    "all_titles = []\n",
    "for title in article_titles:\n",
    "    all_titles.append(title.text)\n",
    "\n",
    "all_titles\n"
   ]
  }
 ],
 "metadata": {
  "kernelspec": {
   "display_name": "Python 3.10.9 64-bit (microsoft store)",
   "language": "python",
   "name": "python3"
  },
  "language_info": {
   "codemirror_mode": {
    "name": "ipython",
    "version": 3
   },
   "file_extension": ".py",
   "mimetype": "text/x-python",
   "name": "python",
   "nbconvert_exporter": "python",
   "pygments_lexer": "ipython3",
   "version": "3.10.9 (tags/v3.10.9:1dd9be6, Dec  6 2022, 20:01:21) [MSC v.1934 64 bit (AMD64)]"
  },
  "vscode": {
   "interpreter": {
    "hash": "4e5e33d5d62f4783652459a7a70896486b0990a8541bf00ca755712641bc8961"
   }
  }
 },
 "nbformat": 4,
 "nbformat_minor": 2
}
