{
 "cells": [
  {
   "cell_type": "markdown",
   "metadata": {},
   "source": [
    "# Make your requests faster\n",
    "\n",
    "When you start scraping web-pages or requesting APIs, you will be facing a problem when doing a lot of requests: this is really slow!\n",
    "\n",
    "It's because python is slow! You could say, well it should not be. Let's see how we can speed things up!\n",
    "\n",
    "## Measure performances\n",
    "\n",
    "In this notebook we will need to track how much time some code is taking to execute.\n",
    "To make things easier, we will create a simple decorator that will print the number of micro-seconds a function takes to execute.\n",
    "\n",
    "A good opportonity to practice decorators in a practical example!\n",
    "\n",
    "*Note that you need python3.3 or higher.*"
   ]
  },
  {
   "cell_type": "code",
   "execution_count": 3,
   "metadata": {},
   "outputs": [
    {
     "name": "stdout",
     "output_type": "stream",
     "text": [
      "example took 2.01 sec\n"
     ]
    }
   ],
   "source": [
    "import time\n",
    "\n",
    "def print_timing(func):\n",
    "    '''Create a timing decorator function use @print_timing just above the function you want to time.'''\n",
    "\n",
    "    def wrapper(*arg):\n",
    "        start = time.perf_counter()\n",
    "        \n",
    "        # Run the function decorated\n",
    "        result = func(*arg)\n",
    "\n",
    "        end = time.perf_counter()\n",
    "        execution_time = round((end - start), 2)\n",
    "        print(f'{func.__name__} took {execution_time} sec')\n",
    "        return result\n",
    "\n",
    "    return wrapper\n",
    "\n",
    "\n",
    "@print_timing\n",
    "def example():\n",
    "    time.sleep(2)\n",
    "\n",
    "\n",
    "example()"
   ]
  },
  {
   "cell_type": "markdown",
   "metadata": {},
   "source": [
    "## The API\n",
    "\n",
    "For this example, we will use the [quotable.io](https://api.quotable.io) API. It's an online API you can use to generate random quote.\n",
    "\n",
    "But feel free to replace `api_url` value with any API you'd like."
   ]
  },
  {
   "cell_type": "code",
   "execution_count": 4,
   "metadata": {},
   "outputs": [],
   "source": [
    "api_url = \"https://api.quotable.io/random\""
   ]
  },
  {
   "cell_type": "markdown",
   "metadata": {},
   "source": [
    "## The \"classic\" way\n",
    "\n",
    "If you start playing with requests, your should probably have something like this:"
   ]
  },
  {
   "cell_type": "code",
   "execution_count": 5,
   "metadata": {},
   "outputs": [
    {
     "name": "stdout",
     "output_type": "stream",
     "text": [
      "The superior man is satisfied and composed; the mean man is always full of distress.\n",
      "Music is a higher revelation than all wisdom and philosophy.\n",
      "He that never changes his opinions, never corrects his mistakes, and will never be wiser on the morrow than he is today.\n",
      "I do not believe in a fate that falls on men however they act; but I do believe in a fate that falls on man unless they act.\n",
      "Almost everything comes from nothing.\n",
      "Courage is rightly esteemed the first of human qualities... because it is the quality which guarantees all others.\n",
      "If we are not fully ourselves, truly in the present moment, we miss everything.\n",
      "Freedom is the right to live as we wish.\n",
      "Technology is destructive only in the hands of people who do not realize that they are one and the same process as the universe.\n",
      "If you do not express your own original ideas, if you do not listen to your own being, you will have betrayed yourself.\n",
      "Our strength grows out of our weaknesses.\n",
      "I would maintain that thanks are the highest form of thought, and that gratitude is happiness doubled by wonder.\n",
      "All I can say about life is, Oh God, enjoy it!\n",
      "I have always found that mercy bears richer fruits than strict justice.\n",
      "You can't blame gravity for falling in love.\n",
      "Good people are good because they've come to wisdom through failure. We get very little wisdom from success, you know.\n",
      "I decided that it was not wisdom that enabled poets to write their poetry, but a kind of instinct or inspiration, such as you find in seers and prophets who deliver all their sublime messages without knowing in the least what they mean.\n",
      "Your work is to discover your work and then with all your heart to give yourself to it.\n",
      "Peace comes from within. Do not seek it without.\n",
      "The past has no power to stop you from being present now. Only your grievance about the past can do that.\n",
      "When you dance, your purpose is not to get to a certain place on the floor. It's to enjoy each step along the way.\n",
      "Fine words and an insinuating appearance are seldom associated with true virtue\n",
      "The world is but a canvas to the imagination.\n",
      "When you learn, teach. When you get, give.\n",
      "The pain passes, but the beauty remains.\n",
      "The heart has eyes which the brain knows nothing of.\n",
      "Friendship is a strong and habitual inclination in two persons to promote the good and happiness of one another.\n",
      "Joy is the best makeup.\n",
      "The older I get the more wisdom I find in the ancient rule of taking first things first. A process which often reduces the most complex human problem to a manageable proportion.\n",
      "With age comes wisdom and a high sex drive. And the wisdom to enjoy it.\n",
      "I am building a fire, and everyday I train, I add more fuel. At just the right moment, I light the match.\n",
      "Love doesn't make the world go round; love is what makes the ride worthwhile.\n",
      "I have friends in overalls whose friendship I would not swap for the favor of the kings of the world.\n",
      "If the stars should appear but one night every thousand years how man would marvel and adore.\n",
      "Eternal nothingness is fine if you happen to be dressed for it.\n",
      "Friendship with oneself is all important because without it one cannot be friends with anybody else in the world.\n",
      "If one does not know to which port one is sailing, no wind is favorable.\n",
      "While we stop to think, we often miss our opportunity.\n",
      "If you want things to be different, perhaps the answer is to become different yourself.\n",
      "You can't blame gravity for falling in love.\n",
      "Love is blind; friendship closes its eyes.\n",
      "Happiness does not come from having much, but from being attached to little.\n",
      "Keep your face always toward the sunshine - and shadows will fall behind you.\n",
      "Strength does not come from physical capacity. It comes from an indomitable will.\n",
      "With the realization of one's own potential and self-confidence in one's ability, one can build a better world.\n",
      "A good head and a good heart are always a formidable combination.\n",
      "Good actions give strength to ourselves and inspire good actions in others.\n",
      "When your desires are strong enough you will appear to possess superhuman powers to achieve.\n",
      "The most effective way to do it, is to do it.\n",
      "Always tell the truth. That way, you don't have to remember what you said.\n",
      "basic_loop_request took 17.29 sec\n"
     ]
    }
   ],
   "source": [
    "import requests\n",
    "\n",
    "\n",
    "def basic_request(url: str):\n",
    "    response = requests.get(url)\n",
    "    response_json = response.json()\n",
    "    print(response_json[\"content\"])\n",
    "\n",
    "\n",
    "@print_timing\n",
    "def basic_loop_request(url: str):\n",
    "    # Query 50 times the API\n",
    "    for _ in range(50):\n",
    "        basic_request(url)\n",
    "\n",
    "\n",
    "basic_loop_request(api_url)"
   ]
  },
  {
   "cell_type": "markdown",
   "metadata": {},
   "source": [
    "### Results\n",
    "\n",
    "On my machine it took **17.06 sec for 50 requests**. \n",
    "\n",
    "Pretty slow right? But why is that?\n",
    "\n",
    "Each time you make a request, your computer needs to create a new \"session\", format your request, send it and wait to receive the response before doing it again with the next request."
   ]
  },
  {
   "cell_type": "markdown",
   "metadata": {},
   "source": [
    "## The \"session\" way\n",
    "\n",
    "To speed this, we can use a **\"session\"** that will be share by all the requests.\n",
    "\n",
    "You can picture it as a postman that knows you already, so he knows which bell to ring, where is the mailbox,... Instead of having to search for those each time."
   ]
  },
  {
   "cell_type": "code",
   "execution_count": 6,
   "metadata": {},
   "outputs": [
    {
     "name": "stdout",
     "output_type": "stream",
     "text": [
      "When you come to the end of your rope, tie a knot and hang on.\n",
      "Life is what happens to you while you're busy making other plans.\n",
      "Accept challenges, so that you may feel the exhilaration of victory.\n",
      "Men in general judge more from appearances than from reality. All men have eyes, but few have the gift of penetration.\n",
      "A life spent making mistakes is not only more honorable, but more useful than a life spent doing nothing.\n",
      "The universe is full of magical things, patiently waiting for our wits to grow sharper.\n",
      "Our distrust is very expensive.\n",
      "Let yourself be silently drawn by the stronger pull of what you really love.\n",
      "Your sacred space is where you can find yourself again and again.\n",
      "The superior man acts before he speaks, and afterwards speaks according to his action.\n",
      "I always wanted to be somebody, but I should have been more specific.\n",
      "Applause is a receipt, not a bill.\n",
      "Wisdom is nothing but a preparation of the soul, a capacity, a secret art of thinking, feeling and breathing thoughts of unity at every moment of life.\n",
      "The man who makes everything that leads to happiness depends upon himself, and not upon other men, has adopted the very best plan for living happily. This is the man of moderation, the man of manly character and of wisdom.\n",
      "Good, better, best. Never let it rest. ‘Til your good is better and your better is best.\n",
      "I endeavor to be wise when I cannot be merry, easy when I cannot be glad, content with what cannot be mended and patient when there is no redress.\n",
      "He who controls others may be powerful, but he who has mastered himself is mightier still.\n",
      "Bad things are not the worst things that can happen to us. Nothing is the worst thing that can happen to us!\n",
      "Friendships are the family we make - not the one we inherit. I've always been someone to whom friendship, elective affinities, is as important as family.\n",
      "A little knowledge that acts is worth infinitely more than much knowledge that is idle.\n",
      "The greatest good you can do for another is not just share your riches but reveal to them their own.\n",
      "The best cure for the body is a quiet mind.\n",
      "True friendship ought never to conceal what it thinks.\n",
      "He who wishes to secure the good of others, has already secured his own.\n",
      "When I do good I feel good, when I do bad I feel bad, and that's my religion.\n",
      "If you can dream it, you can do it.\n",
      "My friends are my estate.\n",
      "It's easy to make a buck. It's a lot tougher to make a difference.\n",
      "A true friend freely, advises justly, assists readily, adventures boldly, takes all patiently, defends courageously, and continues a friend unchangeably.\n",
      "The World is my country, all mankind are my brethren, and to do good is my religion.\n",
      "I hear and I forget. I see and I remember. I do and I understand.\n",
      "I hope our wisdom will grow with our power, and teach us, that the less we use our power the greater it will be.\n",
      "Wise men speak because they have something to say; Fools because they have to say something.\n",
      "If you don't like something, change it. If you can't change it, change your attitude.\n",
      "Act as if what you do makes a difference. It does.\n",
      "Life is really simple, but we insist on making it complicated.\n",
      "It requires wisdom to understand wisdom: the music is nothing if the audience is deaf.\n",
      "Acquaintances we meet, enjoy, and can easily leave behind; but friendship grows deep roots.\n",
      "Your friend is your needs answered.\n",
      "Liberty, taking the word in its concrete sense, consists in the ability to choose.\n",
      "Let go of your attachment to being right, and suddenly your mind is more open. You're able to benefit from the unique viewpoints of others, without being crippled by your own judgement.\n",
      "To make no mistakes is not in the power of man; but from their errors and mistakes the wise and good learn wisdom for the future.\n",
      "If you only have a hammer, you tend to see every problem as a nail.\n",
      "Do not waste yourself in rejection, nor bark against the bad, but chant the beauty of the good.\n",
      "The attempt to combine wisdom and power has only rarely been successful and then only for a short while.\n",
      "Communications tools don't get socially interesting until they get technologically boring.\n",
      "Yeah, we all shine on, like the moon, and the stars, and the sun.\n",
      "Friendship is a very taxing and arduous form of leisure activity.\n",
      "Nothing but heaven itself is better than a friend who is really a friend.\n",
      "We shall never know all the good that a simple smile can do.\n",
      "session_loop_request took 6.39 sec\n"
     ]
    }
   ],
   "source": [
    "from requests import Session\n",
    "\n",
    "\n",
    "def session_request(url: str, session: Session):\n",
    "    # Instead of using request.get, we use our session\n",
    "    response = session.get(url)\n",
    "    response_json = response.json()\n",
    "    print(response_json[\"content\"])\n",
    "\n",
    "\n",
    "@print_timing\n",
    "def session_loop_request(url: str):\n",
    "    # Create shared session for all of your requests\n",
    "    with Session() as session:\n",
    "        # Query 50 times the API\n",
    "        for _ in range(50):\n",
    "            session_request(url, session)\n",
    "\n",
    "\n",
    "session_loop_request(api_url)"
   ]
  },
  {
   "cell_type": "markdown",
   "metadata": {},
   "source": [
    "### Results\n",
    "\n",
    "It took me **5.99 sec for 50 requests**. That's better!\n",
    "\n",
    "And as you can see, I didn't change that much in the code."
   ]
  },
  {
   "cell_type": "markdown",
   "metadata": {},
   "source": [
    "## The \"Async\" way\n",
    "\n",
    "If you need even more performances, you will need to use [AsyncIo](https://docs.python.org/3/library/asyncio.html).\n",
    "\n",
    "This is a library to allow you to run asynchronous code.\n",
    "\n",
    "Why is that more efficiant? Well, when you send a request you need to wait for the response. And during the waiting time, our computer does nothing.\n",
    "If you count all the time the computer is just \"waiting\" on 50 or more requests, you will be surprised to see that most of the computing time is just waiting for the server to respond.\n",
    "\n",
    "[AsyncIo](https://docs.python.org/3/library/asyncio.html) allow you to bypass that.\n",
    "\n",
    "But as always, it has a cost: complexity.\n",
    "\n",
    "Making your code async will complixify the code a lot and make the debugging not a pleasant experience. Also, you will go so fast that you could be banned by the server.\n",
    "\n",
    "My advice? Use it only if you need it.\n",
    "\n",
    "I will show you a simple example but you want to understand it better, I really advice you **[this video](https://www.youtube.com/watch?v=qAh5dDODJ5k)**!\n",
    "\n",
    "### Requirements\n",
    "In order to simplify a bit the code, I will use [httpx](https://www.python-httpx.org/) a python library that is working the same way as the `requests` module but with few helpers for async."
   ]
  },
  {
   "cell_type": "code",
   "execution_count": 8,
   "metadata": {},
   "outputs": [
    {
     "name": "stdout",
     "output_type": "stream",
     "text": [
      "Requirement already satisfied: httpx in c:\\users\\brame\\anaconda3\\lib\\site-packages (0.23.1)\n",
      "Requirement already satisfied: certifi in c:\\users\\brame\\anaconda3\\lib\\site-packages (from httpx) (2021.10.8)\n",
      "Requirement already satisfied: httpcore<0.17.0,>=0.15.0 in c:\\users\\brame\\anaconda3\\lib\\site-packages (from httpx) (0.16.2)\n",
      "Requirement already satisfied: rfc3986[idna2008]<2,>=1.3 in c:\\users\\brame\\anaconda3\\lib\\site-packages (from httpx) (1.5.0)\n",
      "Requirement already satisfied: sniffio in c:\\users\\brame\\anaconda3\\lib\\site-packages (from httpx) (1.2.0)\n",
      "Requirement already satisfied: anyio<5.0,>=3.0 in c:\\users\\brame\\anaconda3\\lib\\site-packages (from httpcore<0.17.0,>=0.15.0->httpx) (3.5.0)\n",
      "Requirement already satisfied: h11<0.15,>=0.13 in c:\\users\\brame\\anaconda3\\lib\\site-packages (from httpcore<0.17.0,>=0.15.0->httpx) (0.14.0)\n",
      "Requirement already satisfied: idna>=2.8 in c:\\users\\brame\\anaconda3\\lib\\site-packages (from anyio<5.0,>=3.0->httpcore<0.17.0,>=0.15.0->httpx) (3.3)\n",
      "Note: you may need to restart the kernel to use updated packages.\n"
     ]
    }
   ],
   "source": [
    "%pip install httpx"
   ]
  },
  {
   "cell_type": "markdown",
   "metadata": {},
   "source": [
    "### Warning!\n",
    "This code won't work in jupyter notebook, there are subtilities for async in jupyter notebook. See [this thread](https://stackoverflow.com/questions/47518874/how-do-i-run-python-asyncio-code-in-a-jupyter-notebook) for more informations.\n",
    "\n",
    "To make it simpler, I will put this code in a .py file and run it in command line:"
   ]
  },
  {
   "cell_type": "markdown",
   "metadata": {},
   "source": [
    "```python\n",
    "from httpx import AsyncClient\n",
    "import asyncio\n",
    "import time\n",
    "\n",
    "\n",
    "api_url = \"https://api.quotable.io/random\"\n",
    "\n",
    "\n",
    "async def session_request_async(url: str, session: AsyncClient):\n",
    "    # Instead of using request.get, we use our session\n",
    "    response = await session.get(url)\n",
    "    response_json = response.json()\n",
    "    print(response_json[\"content\"])\n",
    "    return response_json\n",
    "\n",
    "\n",
    "async def session_loop_request_async(url: str):\n",
    "    # Create shared session for all of your requests\n",
    "    async with AsyncClient() as session:\n",
    "        # Create a list of empty tasks\n",
    "        tasks = []\n",
    "        # Query 50 times the API\n",
    "        for _ in range(50):\n",
    "            # Add a request to tasks\n",
    "            tasks.append(\n",
    "                asyncio.create_task(\n",
    "                    session_request_async(url, session)        \n",
    "                )\n",
    "            )\n",
    "        # Now that all the tasks are registred, run them\n",
    "        responses = await asyncio.gather(*tasks)\n",
    "            \n",
    "            \n",
    "\n",
    "\n",
    "start = time.perf_counter()\n",
    "\n",
    "# We need to use asyncio.run to run the async function\n",
    "asyncio.run(session_loop_request_async(api_url))\n",
    "\n",
    "end = time.perf_counter()\n",
    "execution_time = round((end - start), 2)\n",
    "print(f'session_loop_request_async took {execution_time} sec')\n",
    "```"
   ]
  },
  {
   "cell_type": "code",
   "execution_count": null,
   "metadata": {},
   "outputs": [
    {
     "name": "stdout",
     "output_type": "stream",
     "text": [
      "Don't cry because it's over. Smile because it happened.\n",
      "Our kindness may be the most persuasive argument for that which we believe.\n",
      "The pessimist complains about the wind; the optimist expects it to change; the realist adjusts the sails.\n",
      "There are two ways to slide easily through life: to believe everything or to doubt everything; both ways save us from thinking.\n",
      "It is a common experience that a problem difficult at night is resolved in the morning after the committee of sleep has worked on it.\n",
      "Optimism is the faith that leads to achievement. Nothing can be done without hope and confidence.\n",
      "Obstacles are those frightful things you see when you take your eyes off your goal.\n",
      "Irony is the gaiety of reflection and the joy of wisdom.\n",
      "Twenty years from now you will be more disappointed by the things that you didn't do than by the ones you did do.\n",
      "An idea that is developed and put into action is more important than an idea that exists only as an idea.\n",
      "The best and most beautiful things in the world cannot be seen, nor touched... but are felt in the heart.\n",
      "Success is not final; failure is not fatal: it is the courage to continue that counts.\n",
      "The truth of the matter is that you always know the right thing to do. The hard part is doing it.\n",
      "We should all be thankful for those people who rekindle the inner spirit.\n",
      "The best thing about the future is that it only comes one day at a time.\n",
      "Good people are good because they've come to wisdom through failure. We get very little wisdom from success, you know.\n",
      "I love my past. I love my present. I'm not ashamed of what I've had, and I'm not sad because I have it no longer.\n",
      "First-rate people hire first-rate people; second-rate people hire third-rate people.\n",
      "Friendship is almost always the union of a part of one mind with the part of another; people are friends in spots.\n",
      "One of the tests of leadership is the ability to recognize a problem before it becomes an emergency.\n",
      "Technology made large populations possible; large populations now make technology indispensable.\n",
      "Quality is never an accident; it is always the result of intelligent effort.\n",
      "Only I can change my life. No one can do it for me.\n",
      "Know what's important and what isn't. Have the wisdom to know the right thing to do, the integrity to do it, the character to stand up to those who don't, and the courage to stop those who won't.\n",
      "Of course there is no formula for success except perhaps an unconditional acceptance of life and what it brings.\n",
      "Sports do not build character. They reveal it.\n",
      "It is not a lack of love, but a lack of friendship that makes unhappy marriages.\n",
      "Life is 10% what happens to you and 90% how you react to it.\n",
      "The most complicated achievements of thought are possible without the assistance of consciousness.\n",
      "The truest greatness lies in being kind, the truest wisdom in a happy mind.\n",
      "Football is football and talent is talent. But the mindset of your team makes all the difference.\n",
      "There surely is in human nature an inherent propensity to extract all the good out of all the evil.\n",
      "First say to yourself what you would be; and then do what you have to do.\n",
      "Of all possessions a friend is the most precious.\n",
      "The only way to make sense out of change is to plunge into it, move with it, and join the dance.\n",
      "Trust yourself. You know more than you think you do.\n",
      "Thousands of candles can be lighted from a single candle, and the life of the candle will not be shortened. Happiness never decreases by being shared.\n",
      "What you do today can improve all your tomorrows.\n",
      "This is the final test of a gentleman: his respect for those who can be of no possible value to him.\n",
      "A lot of times people look at the negative side of what they feel they can't do. I always look on the positive side of what I can do.\n",
      "Friends... they cherish one another's hopes. They are kind to one another's dreams.\n",
      "If the single man plant himself indomitably on his instincts, and there abide, the huge world will come round to him.\n",
      "We can only learn to love by loving.\n",
      "There are people who have money and people who are rich.\n",
      "No day in which you learn something is a complete loss.\n",
      "Let us be grateful to people who make us happy; they are the charming gardeners who make our souls blossom.\n",
      "Truth, and goodness, and beauty are but different faces of the same all.\n",
      "Adversity has the effect of eliciting talents, which in prosperous circumstances would have lain dormant.\n",
      "When you are content to be simply yourself and don't compare or compete, everybody will respect you.\n",
      "Happiness does not come from having much, but from being attached to little.\n",
      "session_loop_request_async took 0.8 sec\n"
     ]
    }
   ],
   "source": [
    "!python3 ./assets/async_requests.py"
   ]
  },
  {
   "cell_type": "markdown",
   "metadata": {},
   "source": [
    "### Results\n",
    "It only took me **0.8 sec for 50 requests**! That's impressive.\n",
    "\n",
    "But as you can see, it is harder to write, structure and debug. So make sure you **really** need it if you consider using this method."
   ]
  },
  {
   "cell_type": "markdown",
   "metadata": {},
   "source": [
    "## Summary\n",
    "\n",
    "If we gather all our results:\n",
    "\n",
    "| Method                     | Execution time for 50 requests |\n",
    "|----------------------------|--------------------------------|\n",
    "| `requests.get` loop        | 17.06 sec                  |\n",
    "| `requests` with `Session`  | 5.99 sec                   |\n",
    "| `httpx` with `AsyncClient` | 0.8 sec                   |"
   ]
  },
  {
   "cell_type": "markdown",
   "metadata": {},
   "source": []
  }
 ],
 "metadata": {
  "kernelspec": {
   "display_name": "Python 3.9.12 ('base')",
   "language": "python",
   "name": "python3"
  },
  "language_info": {
   "codemirror_mode": {
    "name": "ipython",
    "version": 3
   },
   "file_extension": ".py",
   "mimetype": "text/x-python",
   "name": "python",
   "nbconvert_exporter": "python",
   "pygments_lexer": "ipython3",
   "version": "3.9.12 (main, Apr  4 2022, 05:22:27) [MSC v.1916 64 bit (AMD64)]"
  },
  "orig_nbformat": 4,
  "vscode": {
   "interpreter": {
    "hash": "7861d0b3c3972525d2c4e83e9861eadfe3d7833f46e7ff1f58fa3fb4d90a3d16"
   }
  }
 },
 "nbformat": 4,
 "nbformat_minor": 2
}
