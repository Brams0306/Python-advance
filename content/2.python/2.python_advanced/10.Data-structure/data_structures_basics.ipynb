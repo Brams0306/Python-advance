{
 "cells": [
  {
   "cell_type": "markdown",
   "metadata": {},
   "source": [
    "# Collection Cheat sheet\n",
    "\n",
    "This notebook is about what you should *absolutely know* about the basic collections in order to be an efficient Python programmer.\n",
    "\n",
    "| Collection  \t| Ordered \t| Mutable \t| Indexed \t| Keyed \t| Content constraint   \t| Search (in) \t| Sort            \t| Memory usage \t| Uses                           \t|\n",
    "|-------------\t|---------\t|---------\t|---------\t|-------\t|----------------------\t|-------------\t|-----------------\t|--------------\t|--------------------------------\t|\n",
    "| List        \t| yes     \t| yes     \t| yes     \t| no    \t| none                 \t| slow O(n)   \t| slow O(n log n) \t| small       \t| sequence, sort                 \t|\n",
    "| Tuple       \t| yes     \t| no      \t| yes     \t| no    \t| none                 \t| slow O(n)   \t| N/A             \t| small       \t| integrity                      \t|\n",
    "| Set         \t| no      \t| yes     \t| no      \t| no    \t| hashable, unique     \t| fast, constant O(1)   \t| N/A             \t| big       \t| search, unique, set operations \t|\n",
    "| Dictionnary \t| no      \t| yes     \t| no      \t| yes   \t| key hashable, unique \t| fast, constant O(1)   \t| N/A             \t| big      \t| search, lookup                 \t|"
   ]
  },
  {
   "cell_type": "markdown",
   "metadata": {},
   "source": [
    "## Lists vs sets\n",
    "\n",
    "In general, if your collection does not need to be ordered, a set is a good candidate. If the list is really small, the memory savings can balance the search inefficiency."
   ]
  },
  {
   "cell_type": "code",
   "execution_count": 1,
   "metadata": {},
   "outputs": [
    {
     "name": "stdout",
     "output_type": "stream",
     "text": [
      "[10 elements] The set takes 5.4 times as much space as the same size list.\n",
      "[10 elements] Search best case: the set is 0.5 times faster than the list. 46 µs vs 22 µs\n",
      "[10 elements] Search average case: the set is 3.1 times faster than the list. 23 µs vs 70 µs\n",
      "[10 elements] Search worst case: the set is 4.8 times faster than the list. 23 µs vs 109 µs\n",
      "\n",
      "[1000 elements] The set takes 4.1 times as much space as the same size list.\n",
      "[1000 elements] Search best case: the set is 0.7 times faster than the list. 40 µs vs 26 µs\n",
      "[1000 elements] Search average case: the set is 121.9 times faster than the list. 46 µs vs 5633 µs\n",
      "[1000 elements] Search worst case: the set is 392.5 times faster than the list. 23 µs vs 9068 µs\n",
      "\n",
      "[1000000 elements] The set takes 4.2 times as much space as the same size list.\n",
      "[1000000 elements] Search best case: the set is 0.9 times faster than the list. 26 µs vs 23 µs\n",
      "[1000000 elements] Search average case: the set is 244898.4 times faster than the list. 25 µs vs 6024501 µs\n",
      "[1000000 elements] Search worst case: the set is 517056.7 times faster than the list. 24 µs vs 12150833 µs\n",
      "\n"
     ]
    }
   ],
   "source": [
    "import sys\n",
    "import timeit\n",
    "\n",
    "for i in (10, 1000, 1000000):\n",
    "    l = list(range(i))\n",
    "    s = set(range(i))\n",
    "\n",
    "    ratio_meme_s_to_l = round(sys.getsizeof(s) / sys.getsizeof(l), 1)\n",
    "    print(f\"[{i} elements] The set takes {ratio_meme_s_to_l} times as much space as the same size list.\")\n",
    "\n",
    "    elements = { 0: \"best\", i // 2: \"average\", i: \"worst\"}\n",
    "\n",
    "    for element, description in elements.items():\n",
    "        time_l = timeit.timeit(f\"{element} in l\", setup=f\"l = {l}\", number=1000)\n",
    "        time_s = timeit.timeit(f\"{element} in s\", setup=f\"s = {s}\", number=1000)\n",
    "        print(f\"[{i} elements] Search {description} case: the set is {round(time_l / time_s, 1)} times faster than the list. {round(1000000 * time_s)} µs vs {round(1000000 * time_l)} µs\")\n",
    "    print()"
   ]
  },
  {
   "cell_type": "code",
   "execution_count": null,
   "metadata": {},
   "outputs": [],
   "source": []
  }
 ],
 "metadata": {
  "kernelspec": {
   "display_name": "Python 3.9.12 ('base')",
   "language": "python",
   "name": "python3"
  },
  "language_info": {
   "codemirror_mode": {
    "name": "ipython",
    "version": 3
   },
   "file_extension": ".py",
   "mimetype": "text/x-python",
   "name": "python",
   "nbconvert_exporter": "python",
   "pygments_lexer": "ipython3",
   "version": "3.9.12"
  },
  "orig_nbformat": 4,
  "vscode": {
   "interpreter": {
    "hash": "7861d0b3c3972525d2c4e83e9861eadfe3d7833f46e7ff1f58fa3fb4d90a3d16"
   }
  }
 },
 "nbformat": 4,
 "nbformat_minor": 2
}
